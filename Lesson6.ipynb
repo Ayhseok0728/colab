{
  "nbformat": 4,
  "nbformat_minor": 0,
  "metadata": {
    "colab": {
      "provenance": [],
      "authorship_tag": "ABX9TyNq2tFbyQEKuPztxj5m8itc",
      "include_colab_link": true
    },
    "kernelspec": {
      "name": "python3",
      "display_name": "Python 3"
    },
    "language_info": {
      "name": "python"
    }
  },
  "cells": [
    {
      "cell_type": "markdown",
      "metadata": {
        "id": "view-in-github",
        "colab_type": "text"
      },
      "source": [
        "<a href=\"https://colab.research.google.com/github/Ayhseok0728/colab/blob/main/Lesson6.ipynb\" target=\"_parent\"><img src=\"https://colab.research.google.com/assets/colab-badge.svg\" alt=\"Open In Colab\"/></a>"
      ]
    },
    {
      "cell_type": "code",
      "execution_count": 4,
      "metadata": {
        "colab": {
          "base_uri": "https://localhost:8080/",
          "height": 266
        },
        "id": "IfGnt8cgKvay",
        "outputId": "f0ed0ea9-17e6-4168-baef-4a447d256712"
      },
      "outputs": [
        {
          "name": "stdout",
          "output_type": "stream",
          "text": [
            "수를 입력하시오 : 저뭇\n"
          ]
        },
        {
          "output_type": "error",
          "ename": "ValueError",
          "evalue": "ignored",
          "traceback": [
            "\u001b[0;31m---------------------------------------------------------------------------\u001b[0m",
            "\u001b[0;31mValueError\u001b[0m                                Traceback (most recent call last)",
            "\u001b[0;32m<ipython-input-4-86488c89be70>\u001b[0m in \u001b[0;36m<module>\u001b[0;34m\u001b[0m\n\u001b[0;32m----> 1\u001b[0;31m \u001b[0mnum\u001b[0m \u001b[0;34m=\u001b[0m \u001b[0mint\u001b[0m\u001b[0;34m(\u001b[0m\u001b[0minput\u001b[0m\u001b[0;34m(\u001b[0m\u001b[0;34m\"수를 입력하시오 : \"\u001b[0m\u001b[0;34m)\u001b[0m\u001b[0;34m)\u001b[0m\u001b[0;34m\u001b[0m\u001b[0;34m\u001b[0m\u001b[0m\n\u001b[0m\u001b[1;32m      2\u001b[0m \u001b[0;34m\u001b[0m\u001b[0m\n\u001b[1;32m      3\u001b[0m \u001b[0;32mif\u001b[0m \u001b[0mnum\u001b[0m \u001b[0;34m>\u001b[0m \u001b[0;36m100\u001b[0m \u001b[0;34m:\u001b[0m\u001b[0;34m\u001b[0m\u001b[0;34m\u001b[0m\u001b[0m\n\u001b[1;32m      4\u001b[0m   \u001b[0;32mif\u001b[0m \u001b[0mnum\u001b[0m \u001b[0;34m<\u001b[0m \u001b[0;36m1000\u001b[0m \u001b[0;34m:\u001b[0m\u001b[0;34m\u001b[0m\u001b[0;34m\u001b[0m\u001b[0m\n\u001b[1;32m      5\u001b[0m     \u001b[0mprint\u001b[0m\u001b[0;34m(\u001b[0m\u001b[0;34m\"100보다 크고 1000보다 작군요.\"\u001b[0m\u001b[0;34m)\u001b[0m\u001b[0;34m\u001b[0m\u001b[0;34m\u001b[0m\u001b[0m\n",
            "\u001b[0;31mValueError\u001b[0m: invalid literal for int() with base 10: '저뭇'"
          ]
        }
      ],
      "source": [
        "num = int(input(\"수를 입력하시오 : \"))\n",
        "\n",
        "if num > 100 :\n",
        "  if num < 1000 : \n",
        "    print(\"100보다 크고 1000보다 작군요.\")\n",
        "  else : \n",
        "    print(\"와~ 1000보다 크군요.\")\n",
        "else :\n",
        "  print(\"음~ 100보다 작군요.\")"
      ]
    },
    {
      "cell_type": "code",
      "source": [
        "score = int(input(\"점수를 입력하세요.: \"))\n",
        "\n",
        "if score >= 90 :\n",
        "  print(\"A학점입니다.\", end='')\n",
        "else :\n",
        "  if score >= 80 :\n",
        "     print(\"B학점입니다.\",end='')\n",
        "  else :\n",
        "    if score >= 70 :\n",
        "      print(\"C학점입니다. \", end='')\n",
        "    else :\n",
        "      if score >= 60 :\n",
        "        print(\"D학점입니다.\", end='')\n",
        "      else :\n",
        "       print(\"F학점입니다.\", end='')\n",
        "       "
      ],
      "metadata": {
        "colab": {
          "base_uri": "https://localhost:8080/"
        },
        "id": "bohaeWLANfFi",
        "outputId": "24884b13-beb7-4aef-dc27-af4660fe3318"
      },
      "execution_count": 6,
      "outputs": [
        {
          "output_type": "stream",
          "name": "stdout",
          "text": [
            "점수를 입력하세요.: 90\n",
            "A학점입니다."
          ]
        }
      ]
    },
    {
      "cell_type": "code",
      "source": [
        "score = int(input(\"점수를 입력하세요. :\"))\n",
        "\n",
        "if score >= 90 :\n",
        "  print(\"A\",end='')\n",
        "elif score >= 80 :\n",
        "  print(\"B\", end='')\n",
        "elif score >= 70 :\n",
        "  print(\"C\", end='')\n",
        "elif score >= 60 :\n",
        "  print(\"D\", end='')\n",
        "else :\n",
        "  print(\"F\", end='')\n",
        "  print(\"학점입니다...\")"
      ],
      "metadata": {
        "colab": {
          "base_uri": "https://localhost:8080/"
        },
        "id": "LD4zqfBRPdPo",
        "outputId": "84b311ee-ceca-4020-a7d5-22b4d8fa1ce7"
      },
      "execution_count": 8,
      "outputs": [
        {
          "output_type": "stream",
          "name": "stdout",
          "text": [
            "점수를 입력하세요. :90\n",
            "A"
          ]
        }
      ]
    },
    {
      "cell_type": "code",
      "source": [
        "age = int(input(\"나이를 입력해주세요. : \"))\n",
        "\n",
        "if age >= 18 :\n",
        "  print(\"즐거운 시간 되십시오.~~\")\n",
        "else :\n",
        "  print(\"만 19시미만 이용자는 오후 10까지이므로 컴퓨터를 종료시켜주세요\")\n",
        "\n",
        "print(\"협조해주셔서 감사합니다.\")"
      ],
      "metadata": {
        "id": "4dE-oS1MQSIr"
      },
      "execution_count": null,
      "outputs": []
    },
    {
      "cell_type": "code",
      "source": [
        "import random\n",
        "\n",
        "myhand = input(\"나의 가위/바위/보 :\")\n",
        "comhand = random.choice([\"가위\", \"바위\", \"보\"])\n",
        "print(\"컴퓨터와 가위/바위/보 :\", comhand)\n",
        "\n",
        "if myhand == comhand :\n",
        "  print(\"비겼습니다.\")\n",
        "\n",
        "elif (myhand == \"가위\" and comhand == \"보\") or \\\n",
        "     (myhand == \"바위\" and comhand == \"가위\") or \\\n",
        "     (myhand == \"보\" and comhand == \"바위\") :\n",
        "    print(\"이겼습니다!\")\n",
        "else :\n",
        "  print(\"졌습니다...\")"
      ],
      "metadata": {
        "colab": {
          "base_uri": "https://localhost:8080/"
        },
        "id": "bHv0FsNchLa0",
        "outputId": "b24a0bae-91ed-49ff-b4c5-7e4cdf62986e"
      },
      "execution_count": 18,
      "outputs": [
        {
          "output_type": "stream",
          "name": "stdout",
          "text": [
            "나의 가위/바위/보 :보\n",
            "컴퓨터와 가위/바위/보 : 보\n",
            "비겼습니다.\n"
          ]
        }
      ]
    },
    {
      "cell_type": "code",
      "source": [
        "#!pip3 install ColabTurtle\n",
        "import ColabTurtle.Turtle as turtle\n",
        "import random\n",
        "print(turtle.DEFAULT_WINDOW_SIZE)\n",
        "turtle.initializeTurtle()\n",
        "count = 1\n",
        "while count <= 360 :\n",
        "\n",
        "while True :\n",
        "  turtle.left(random.randint(0,360))\n",
        "  turtle.color((random.randint(0,255), random.randint(0,255),random.randint(0,255)))\n",
        "  turtle.forward(random.randint(100,200))\n",
        "  if 800 <= turtle.getx() or turtle.getx() <= 0 or \\\n",
        "  500 <= turtle.gety() or turtle.gety() <=0:\n",
        "    turtle.goto(400,250)\n",
        "  count = count + 1"
      ],
      "metadata": {
        "colab": {
          "base_uri": "https://localhost:8080/",
          "height": 137
        },
        "id": "bIlA0y56ifMk",
        "outputId": "c396ec33-8a99-486b-a6ea-78647bd076e1"
      },
      "execution_count": 27,
      "outputs": [
        {
          "output_type": "error",
          "ename": "IndentationError",
          "evalue": "ignored",
          "traceback": [
            "\u001b[0;36m  File \u001b[0;32m\"<ipython-input-27-f1dfdbc59756>\"\u001b[0;36m, line \u001b[0;32m9\u001b[0m\n\u001b[0;31m    while True :\u001b[0m\n\u001b[0m        ^\u001b[0m\n\u001b[0;31mIndentationError\u001b[0m\u001b[0;31m:\u001b[0m expected an indented block\n"
          ]
        }
      ]
    },
    {
      "cell_type": "code",
      "source": [
        "for i in range(15) :\n",
        "  print(\"난생처음 파이썬은 재미있지않았습니다....\")"
      ],
      "metadata": {
        "colab": {
          "base_uri": "https://localhost:8080/"
        },
        "id": "pv2Qyd-KvQ-h",
        "outputId": "94048992-6a7b-4e39-cd2c-9f39165bac17"
      },
      "execution_count": 30,
      "outputs": [
        {
          "output_type": "stream",
          "name": "stdout",
          "text": [
            "난생처음 파이썬은 재미있지않았습니다....\n",
            "난생처음 파이썬은 재미있지않았습니다....\n",
            "난생처음 파이썬은 재미있지않았습니다....\n",
            "난생처음 파이썬은 재미있지않았습니다....\n",
            "난생처음 파이썬은 재미있지않았습니다....\n",
            "난생처음 파이썬은 재미있지않았습니다....\n",
            "난생처음 파이썬은 재미있지않았습니다....\n",
            "난생처음 파이썬은 재미있지않았습니다....\n",
            "난생처음 파이썬은 재미있지않았습니다....\n",
            "난생처음 파이썬은 재미있지않았습니다....\n",
            "난생처음 파이썬은 재미있지않았습니다....\n",
            "난생처음 파이썬은 재미있지않았습니다....\n",
            "난생처음 파이썬은 재미있지않았습니다....\n",
            "난생처음 파이썬은 재미있지않았습니다....\n",
            "난생처음 파이썬은 재미있지않았습니다....\n"
          ]
        }
      ]
    },
    {
      "cell_type": "code",
      "source": [
        "myList = [\"짜장면\", \"김밥\", \"라면\"]\n",
        "for i in myList :\n",
        "  print(i)"
      ],
      "metadata": {
        "colab": {
          "base_uri": "https://localhost:8080/"
        },
        "id": "Ma-JqjKcvrRr",
        "outputId": "5c821fc9-2f91-4831-cff2-257f84d41e6d"
      },
      "execution_count": 32,
      "outputs": [
        {
          "output_type": "stream",
          "name": "stdout",
          "text": [
            "짜장면\n",
            "김밥\n",
            "라면\n"
          ]
        }
      ]
    },
    {
      "cell_type": "code",
      "source": [
        "flag = 1\n",
        "sum = 0\n",
        "for i in range(1, 100, 2):\n",
        "  if flag == 1 :\n",
        "    sum = sum + i\n",
        "    flag = flag * - 1\n",
        "  else :\n",
        "    sum = sum - i\n",
        "    flag = flag * - 1\n",
        "print(sum)"
      ],
      "metadata": {
        "colab": {
          "base_uri": "https://localhost:8080/"
        },
        "id": "efNRVicfwkqb",
        "outputId": "7e5d0857-e46c-4289-df66-8911de25ec55"
      },
      "execution_count": 36,
      "outputs": [
        {
          "output_type": "stream",
          "name": "stdout",
          "text": [
            "-50\n"
          ]
        }
      ]
    },
    {
      "cell_type": "code",
      "source": [
        "fact = 1\n",
        "friends_num = 5\n",
        "for i in range(1, friends_num + 1, 1):\n",
        "  fact = fact * i\n",
        "\n",
        "print(\"A,B,C,D,E 학생들을 순서대로 세우는 경우의 수 : \", fact)"
      ],
      "metadata": {
        "colab": {
          "base_uri": "https://localhost:8080/"
        },
        "id": "Pw5Hqv_kzVVE",
        "outputId": "73541043-0bbf-44d4-cfb5-067673782d06"
      },
      "execution_count": 37,
      "outputs": [
        {
          "output_type": "stream",
          "name": "stdout",
          "text": [
            "A,B,C,D,E 학생들을 순서대로 세우는 경우의 수 :  120\n"
          ]
        }
      ]
    },
    {
      "cell_type": "code",
      "source": [
        "hap = 0\n",
        "\n",
        "for i in range(1, 11, 1):\n",
        "  hap = hap + i\n",
        "\n",
        "print(\"1에서 10까지의 합 : \",hap)"
      ],
      "metadata": {
        "colab": {
          "base_uri": "https://localhost:8080/"
        },
        "id": "thW0IoL31ARs",
        "outputId": "8541b292-fd52-4a62-c513-4ce279ca3e2a"
      },
      "execution_count": 39,
      "outputs": [
        {
          "output_type": "stream",
          "name": "stdout",
          "text": [
            "1에서 10까지의 합 :  55\n"
          ]
        }
      ]
    },
    {
      "cell_type": "code",
      "source": [
        "i, hap = 0, 0\n",
        "\n",
        "for i in range(1001, 2001, 2):\n",
        "  hap += i\n",
        "\n",
        "print(\"1000에서 2000까지의 홀수의 합 : \", hap)"
      ],
      "metadata": {
        "colab": {
          "base_uri": "https://localhost:8080/"
        },
        "id": "6Px_Gtmi2UgT",
        "outputId": "e225d1fa-3504-49e3-b9c6-03d3e34b030b"
      },
      "execution_count": 41,
      "outputs": [
        {
          "output_type": "stream",
          "name": "stdout",
          "text": [
            "1000에서 2000까지의 홀수의 합 :  750000\n"
          ]
        }
      ]
    },
    {
      "cell_type": "code",
      "source": [
        "for i in range(3) : \n",
        "  for k in range(21) :\n",
        "    print(\"난생처음은 쉽습니다. ^^ (i값:\", i ,\", k값:\", k ,\")\")"
      ],
      "metadata": {
        "colab": {
          "base_uri": "https://localhost:8080/"
        },
        "id": "o4qaJ7xK3Xjb",
        "outputId": "f1a72b87-5c13-47bb-a362-00af2c9926d5"
      },
      "execution_count": 43,
      "outputs": [
        {
          "output_type": "stream",
          "name": "stdout",
          "text": [
            "난생처음은 쉽습니다. ^^ (i값: 0 , k값: 0 )\n",
            "난생처음은 쉽습니다. ^^ (i값: 0 , k값: 1 )\n",
            "난생처음은 쉽습니다. ^^ (i값: 0 , k값: 2 )\n",
            "난생처음은 쉽습니다. ^^ (i값: 0 , k값: 3 )\n",
            "난생처음은 쉽습니다. ^^ (i값: 0 , k값: 4 )\n",
            "난생처음은 쉽습니다. ^^ (i값: 0 , k값: 5 )\n",
            "난생처음은 쉽습니다. ^^ (i값: 0 , k값: 6 )\n",
            "난생처음은 쉽습니다. ^^ (i값: 0 , k값: 7 )\n",
            "난생처음은 쉽습니다. ^^ (i값: 0 , k값: 8 )\n",
            "난생처음은 쉽습니다. ^^ (i값: 0 , k값: 9 )\n",
            "난생처음은 쉽습니다. ^^ (i값: 0 , k값: 10 )\n",
            "난생처음은 쉽습니다. ^^ (i값: 0 , k값: 11 )\n",
            "난생처음은 쉽습니다. ^^ (i값: 0 , k값: 12 )\n",
            "난생처음은 쉽습니다. ^^ (i값: 0 , k값: 13 )\n",
            "난생처음은 쉽습니다. ^^ (i값: 0 , k값: 14 )\n",
            "난생처음은 쉽습니다. ^^ (i값: 0 , k값: 15 )\n",
            "난생처음은 쉽습니다. ^^ (i값: 0 , k값: 16 )\n",
            "난생처음은 쉽습니다. ^^ (i값: 0 , k값: 17 )\n",
            "난생처음은 쉽습니다. ^^ (i값: 0 , k값: 18 )\n",
            "난생처음은 쉽습니다. ^^ (i값: 0 , k값: 19 )\n",
            "난생처음은 쉽습니다. ^^ (i값: 0 , k값: 20 )\n",
            "난생처음은 쉽습니다. ^^ (i값: 1 , k값: 0 )\n",
            "난생처음은 쉽습니다. ^^ (i값: 1 , k값: 1 )\n",
            "난생처음은 쉽습니다. ^^ (i값: 1 , k값: 2 )\n",
            "난생처음은 쉽습니다. ^^ (i값: 1 , k값: 3 )\n",
            "난생처음은 쉽습니다. ^^ (i값: 1 , k값: 4 )\n",
            "난생처음은 쉽습니다. ^^ (i값: 1 , k값: 5 )\n",
            "난생처음은 쉽습니다. ^^ (i값: 1 , k값: 6 )\n",
            "난생처음은 쉽습니다. ^^ (i값: 1 , k값: 7 )\n",
            "난생처음은 쉽습니다. ^^ (i값: 1 , k값: 8 )\n",
            "난생처음은 쉽습니다. ^^ (i값: 1 , k값: 9 )\n",
            "난생처음은 쉽습니다. ^^ (i값: 1 , k값: 10 )\n",
            "난생처음은 쉽습니다. ^^ (i값: 1 , k값: 11 )\n",
            "난생처음은 쉽습니다. ^^ (i값: 1 , k값: 12 )\n",
            "난생처음은 쉽습니다. ^^ (i값: 1 , k값: 13 )\n",
            "난생처음은 쉽습니다. ^^ (i값: 1 , k값: 14 )\n",
            "난생처음은 쉽습니다. ^^ (i값: 1 , k값: 15 )\n",
            "난생처음은 쉽습니다. ^^ (i값: 1 , k값: 16 )\n",
            "난생처음은 쉽습니다. ^^ (i값: 1 , k값: 17 )\n",
            "난생처음은 쉽습니다. ^^ (i값: 1 , k값: 18 )\n",
            "난생처음은 쉽습니다. ^^ (i값: 1 , k값: 19 )\n",
            "난생처음은 쉽습니다. ^^ (i값: 1 , k값: 20 )\n",
            "난생처음은 쉽습니다. ^^ (i값: 2 , k값: 0 )\n",
            "난생처음은 쉽습니다. ^^ (i값: 2 , k값: 1 )\n",
            "난생처음은 쉽습니다. ^^ (i값: 2 , k값: 2 )\n",
            "난생처음은 쉽습니다. ^^ (i값: 2 , k값: 3 )\n",
            "난생처음은 쉽습니다. ^^ (i값: 2 , k값: 4 )\n",
            "난생처음은 쉽습니다. ^^ (i값: 2 , k값: 5 )\n",
            "난생처음은 쉽습니다. ^^ (i값: 2 , k값: 6 )\n",
            "난생처음은 쉽습니다. ^^ (i값: 2 , k값: 7 )\n",
            "난생처음은 쉽습니다. ^^ (i값: 2 , k값: 8 )\n",
            "난생처음은 쉽습니다. ^^ (i값: 2 , k값: 9 )\n",
            "난생처음은 쉽습니다. ^^ (i값: 2 , k값: 10 )\n",
            "난생처음은 쉽습니다. ^^ (i값: 2 , k값: 11 )\n",
            "난생처음은 쉽습니다. ^^ (i값: 2 , k값: 12 )\n",
            "난생처음은 쉽습니다. ^^ (i값: 2 , k값: 13 )\n",
            "난생처음은 쉽습니다. ^^ (i값: 2 , k값: 14 )\n",
            "난생처음은 쉽습니다. ^^ (i값: 2 , k값: 15 )\n",
            "난생처음은 쉽습니다. ^^ (i값: 2 , k값: 16 )\n",
            "난생처음은 쉽습니다. ^^ (i값: 2 , k값: 17 )\n",
            "난생처음은 쉽습니다. ^^ (i값: 2 , k값: 18 )\n",
            "난생처음은 쉽습니다. ^^ (i값: 2 , k값: 19 )\n",
            "난생처음은 쉽습니다. ^^ (i값: 2 , k값: 20 )\n"
          ]
        }
      ]
    },
    {
      "cell_type": "code",
      "source": [
        "for i in range(2) :\n",
        "  for k in range(3) :\n",
        "    print(\"중첩\")"
      ],
      "metadata": {
        "colab": {
          "base_uri": "https://localhost:8080/"
        },
        "id": "uORwZ1Rz4JlN",
        "outputId": "b57a4cc6-31d9-44f7-c0c3-a2804afc4ab5"
      },
      "execution_count": 45,
      "outputs": [
        {
          "output_type": "stream",
          "name": "stdout",
          "text": [
            "중첩\n",
            "중첩\n",
            "중첩\n",
            "중첩\n",
            "중첩\n",
            "중첩\n"
          ]
        }
      ]
    },
    {
      "cell_type": "code",
      "source": [],
      "metadata": {
        "id": "nKp4VCyF4Q7V"
      },
      "execution_count": null,
      "outputs": []
    }
  ]
}