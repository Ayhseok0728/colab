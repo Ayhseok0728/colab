{
  "nbformat": 4,
  "nbformat_minor": 0,
  "metadata": {
    "colab": {
      "name": "Lession-3.ipynb",
      "provenance": [],
      "authorship_tag": "ABX9TyOiRq5b/PGrmdyKD4V5bJ5j",
      "include_colab_link": true
    },
    "kernelspec": {
      "name": "python3",
      "display_name": "Python 3"
    },
    "language_info": {
      "name": "python"
    }
  },
  "cells": [
    {
      "cell_type": "markdown",
      "metadata": {
        "id": "view-in-github",
        "colab_type": "text"
      },
      "source": [
        "<a href=\"https://colab.research.google.com/github/Ayhseok0728/colab/blob/main/Lession_3.ipynb\" target=\"_parent\"><img src=\"https://colab.research.google.com/assets/colab-badge.svg\" alt=\"Open In Colab\"/></a>"
      ]
    },
    {
      "cell_type": "markdown",
      "source": [
        "몫과 나머지 연산자, 제곱 연산자"
      ],
      "metadata": {
        "id": "8zBfmsGT4jm5"
      }
    },
    {
      "cell_type": "code",
      "execution_count": 1,
      "metadata": {
        "colab": {
          "base_uri": "https://localhost:8080/"
        },
        "id": "RP0aC9953YIC",
        "outputId": "e0f21954-0606-4624-aa0f-28b7962b56c1"
      },
      "outputs": [
        {
          "output_type": "stream",
          "name": "stdout",
          "text": [
            "나눠지는 수:25\n",
            "나누는 수:10\n",
            "25 을(를 10 (으)로 나눈 몫은  2 입니다.\n",
            "25 을(를 10 (으)로 나눈 나머지는  5 입니다.\n"
          ]
        }
      ],
      "source": [
        "num1 = int(input(\"나눠지는 수:\"))\n",
        "num2 = int(input(\"나누는 수:\"))\n",
        "q = num1 // num2\n",
        "r = num1 % num2\n",
        "print(num1, '을(를', num2, '(으)로 나눈 몫은 ', q, '입니다.')\n",
        "print(num1, '을(를', num2, '(으)로 나눈 나머지는 ', r, '입니다.')"
      ]
    },
    {
      "cell_type": "markdown",
      "source": [
        "짝수 홀수 구하는 식"
      ],
      "metadata": {
        "id": "GJ62JSI05Q3Z"
      }
    },
    {
      "cell_type": "code",
      "source": [
        "num = int(input(\"수를 입력하시오: \"))\n",
        "\n",
        "if num%2 == 0 :\n",
        "  print(num, \"은(는) 짝수입니다.\")\n",
        "else :\n",
        "  print(num, \"은(는) 홀수입니다.\")"
      ],
      "metadata": {
        "colab": {
          "base_uri": "https://localhost:8080/",
          "height": 266
        },
        "id": "IFfmKzjL5JD1",
        "outputId": "cbee42cc-e0c5-47e3-8f8b-5b8b962818d7"
      },
      "execution_count": 5,
      "outputs": [
        {
          "name": "stdout",
          "output_type": "stream",
          "text": [
            "수를 입력하시오: \n"
          ]
        },
        {
          "output_type": "error",
          "ename": "ValueError",
          "evalue": "ignored",
          "traceback": [
            "\u001b[0;31m---------------------------------------------------------------------------\u001b[0m",
            "\u001b[0;31mValueError\u001b[0m                                Traceback (most recent call last)",
            "\u001b[0;32m<ipython-input-5-312449b1441b>\u001b[0m in \u001b[0;36m<module>\u001b[0;34m\u001b[0m\n\u001b[0;32m----> 1\u001b[0;31m \u001b[0mnum\u001b[0m \u001b[0;34m=\u001b[0m \u001b[0mint\u001b[0m\u001b[0;34m(\u001b[0m\u001b[0minput\u001b[0m\u001b[0;34m(\u001b[0m\u001b[0;34m\"수를 입력하시오: \"\u001b[0m\u001b[0;34m)\u001b[0m\u001b[0;34m)\u001b[0m\u001b[0;34m\u001b[0m\u001b[0;34m\u001b[0m\u001b[0m\n\u001b[0m\u001b[1;32m      2\u001b[0m \u001b[0;34m\u001b[0m\u001b[0m\n\u001b[1;32m      3\u001b[0m \u001b[0;32mif\u001b[0m \u001b[0mnum\u001b[0m\u001b[0;34m%\u001b[0m\u001b[0;36m2\u001b[0m \u001b[0;34m==\u001b[0m \u001b[0;36m0\u001b[0m \u001b[0;34m:\u001b[0m\u001b[0;34m\u001b[0m\u001b[0;34m\u001b[0m\u001b[0m\n\u001b[1;32m      4\u001b[0m   \u001b[0mprint\u001b[0m\u001b[0;34m(\u001b[0m\u001b[0mnum\u001b[0m\u001b[0;34m,\u001b[0m \u001b[0;34m\"은(는) 짝수입니다.\"\u001b[0m\u001b[0;34m)\u001b[0m\u001b[0;34m\u001b[0m\u001b[0;34m\u001b[0m\u001b[0m\n\u001b[1;32m      5\u001b[0m \u001b[0;32melse\u001b[0m \u001b[0;34m:\u001b[0m\u001b[0;34m\u001b[0m\u001b[0;34m\u001b[0m\u001b[0m\n",
            "\u001b[0;31mValueError\u001b[0m: invalid literal for int() with base 10: ''"
          ]
        }
      ]
    },
    {
      "cell_type": "code",
      "source": [
        "p = int(input(\"파운드(lb)를 입력하세요: \"))\n",
        "kg = p * 0.453592\n",
        "print(p, \"파운드(lb)는\", round(kg, 5), \"킬로그랩(kg)입니다.\")\n",
        "\n",
        "kg = int(input(\"킬로그램(kg)을 입력하세요:\"))\n",
        "p = kg *2.204623\n",
        "print(kg, \"킬로그램(kg)은\", round(p, 5), \"파운드(lb)입니다.\")"
      ],
      "metadata": {
        "colab": {
          "base_uri": "https://localhost:8080/"
        },
        "id": "lGzPVOk07V9t",
        "outputId": "47700a99-b239-4243-9c1a-900b6860d30c"
      },
      "execution_count": 9,
      "outputs": [
        {
          "output_type": "stream",
          "name": "stdout",
          "text": [
            "파운드(lb)를 입력하세요: 5\n",
            "5 파운드(lb)는 2.26796 킬로그랩(kg)입니다.\n",
            "킬로그램(kg)을 입력하세요:5\n",
            "5 킬로그램(kg)은 11.02312 파운드(lb)입니다.\n"
          ]
        }
      ]
    },
    {
      "cell_type": "code",
      "source": [
        "w = float(input(\"몸무게 입력: \"))\n",
        "h = float(input(\"키(신장)를 입력(cm): \"))\n",
        "h = h * 0.01\n",
        "BMI = w / (h * h)\n",
        "print(\"당신의 BMI는: \", round(BMI, 3))"
      ],
      "metadata": {
        "colab": {
          "base_uri": "https://localhost:8080/"
        },
        "id": "6mI58gNX9zC7",
        "outputId": "ca8e4d47-05c2-41d0-c6aa-e4c639710c13"
      },
      "execution_count": 12,
      "outputs": [
        {
          "output_type": "stream",
          "name": "stdout",
          "text": [
            "몸무게 입력: 12345\n",
            "키(신장)를 입력(cm): 54321\n",
            "당신의 BMI는:  0.042\n"
          ]
        }
      ]
    },
    {
      "cell_type": "code",
      "source": [
        "total = 0\n",
        "\n",
        "#구입한 물품\n",
        "total -= 900 * 10 #삼감김밥 10 개\n",
        "total -= 3500 * 5 #도시락 5개\n",
        "\n",
        "#판매한 물품\n",
        "total += 1800 * 2 #바나나맛 우유 2개\n",
        "total += 4000 * 4 #도시락 4개\n",
        "total += 1500 #콜라 1개\n",
        "total += 2000 * 4 #새우깡 4개\n",
        "total +=1800 * 5 #캔커피 5개\n"
      ],
      "metadata": {
        "id": "aGfDI2STADDN"
      },
      "execution_count": 16,
      "outputs": []
    },
    {
      "cell_type": "code",
      "source": [
        "score = int(input(\"필기 시험점수를 입력하세요: \"))\n",
        "print(score >= 70)"
      ],
      "metadata": {
        "colab": {
          "base_uri": "https://localhost:8080/"
        },
        "id": "Is8AIdnCEfGC",
        "outputId": "f074d5b8-adf3-4821-a51e-afe95f7690bb"
      },
      "execution_count": 18,
      "outputs": [
        {
          "output_type": "stream",
          "name": "stdout",
          "text": [
            "필기 시험점수를 입력하세요: 99\n",
            "True\n"
          ]
        }
      ]
    },
    {
      "cell_type": "code",
      "source": [
        "python = 3\n",
        "mobile = 2\n",
        "excel = 1\n",
        "\n",
        "A = 4.5\n",
        "B = 4.0\n",
        "C = 3.5\n",
        "\n",
        "avg = ((python * C) + (mobile * B) + (excel * A)) / (python + mobile + excel)#\n",
        "print(\"평균 학점: \", avg)"
      ],
      "metadata": {
        "colab": {
          "base_uri": "https://localhost:8080/"
        },
        "id": "a2BGYTHGFMLZ",
        "outputId": "97878ea8-c27c-4eff-c500-6b8ea1e8d34c"
      },
      "execution_count": 22,
      "outputs": [
        {
          "output_type": "stream",
          "name": "stdout",
          "text": [
            "평균 학점:  3.8333333333333335\n"
          ]
        }
      ]
    },
    {
      "cell_type": "code",
      "source": [
        "!pip3 install ColabTurtle\n",
        "import ColabTurtle.Turtle as turtle\n",
        "\n",
        "turtle.initializeTurtle()\n",
        "while True :\n",
        "  angle = int(input(\"거북이의 회전 각도 : \"))\n",
        "  if angle == 0 :\n",
        "    break;\n",
        "  distance = int(input(\"거북이의 이동거리: \"))\n",
        "\n",
        "  turtle.left(angle)\n",
        "  turtle.forward(distance)\n",
        "#print(angle, distance)"
      ],
      "metadata": {
        "colab": {
          "base_uri": "https://localhost:8080/",
          "height": 1000
        },
        "id": "qQZOeZQ9IjrE",
        "outputId": "b8821655-a7b0-4abf-8fca-a1a46d89c6ac"
      },
      "execution_count": 30,
      "outputs": [
        {
          "output_type": "stream",
          "name": "stdout",
          "text": [
            "Looking in indexes: https://pypi.org/simple, https://us-python.pkg.dev/colab-wheels/public/simple/\n",
            "Requirement already satisfied: ColabTurtle in /usr/local/lib/python3.7/dist-packages (2.1.0)\n"
          ]
        },
        {
          "output_type": "display_data",
          "data": {
            "text/plain": [
              "<IPython.core.display.HTML object>"
            ],
            "text/html": [
              "\n",
              "      <svg width=\"800\" height=\"500\">\n",
              "        <rect width=\"100%\" height=\"100%\" fill=\"black\"/>\n",
              "        <line x1=\"400\" y1=\"250\" x2=\"364.645\" y2=\"214.645\" stroke-linecap=\"round\" style=\"stroke:white;stroke-width:4\"/><line x1=\"364.645\" y1=\"214.645\" x2=\"314.645\" y2=\"214.645\" stroke-linecap=\"round\" style=\"stroke:white;stroke-width:4\"/><line x1=\"314.645\" y1=\"214.645\" x2=\"279.29\" y2=\"250.0\" stroke-linecap=\"round\" style=\"stroke:white;stroke-width:4\"/><line x1=\"279.29\" y1=\"250.0\" x2=\"279.29\" y2=\"300.0\" stroke-linecap=\"round\" style=\"stroke:white;stroke-width:4\"/><line x1=\"279.29\" y1=\"300.0\" x2=\"314.645\" y2=\"335.355\" stroke-linecap=\"round\" style=\"stroke:white;stroke-width:4\"/><line x1=\"314.645\" y1=\"335.355\" x2=\"346.465\" y2=\"303.535\" stroke-linecap=\"round\" style=\"stroke:white;stroke-width:4\"/><line x1=\"346.465\" y1=\"303.535\" x2=\"304.179\" y2=\"288.144\" stroke-linecap=\"round\" style=\"stroke:white;stroke-width:4\"/><line x1=\"304.179\" y1=\"288.144\" x2=\"303.194\" y2=\"287.97\" stroke-linecap=\"round\" style=\"stroke:white;stroke-width:4\"/>\n",
              "        <g visibility=visible transform=\"rotate(280,303.194,287.97) translate(285.194, 269.97)\">\n",
              "<path style=\" stroke:none;fill-rule:evenodd;fill:white;fill-opacity:1;\" d=\"M 18.214844 0.632812 C 16.109375 1.800781 15.011719 4.074219 15.074219 7.132812 L 15.085938 7.652344 L 14.785156 7.496094 C 13.476562 6.824219 11.957031 6.671875 10.40625 7.066406 C 8.46875 7.550781 6.515625 9.15625 4.394531 11.992188 C 3.0625 13.777344 2.679688 14.636719 3.042969 15.027344 L 3.15625 15.152344 L 3.519531 15.152344 C 4.238281 15.152344 4.828125 14.886719 8.1875 13.039062 C 9.386719 12.378906 10.371094 11.839844 10.378906 11.839844 C 10.386719 11.839844 10.355469 11.929688 10.304688 12.035156 C 9.832031 13.09375 9.257812 14.820312 8.96875 16.078125 C 7.914062 20.652344 8.617188 24.53125 11.070312 27.660156 C 11.351562 28.015625 11.363281 27.914062 10.972656 28.382812 C 8.925781 30.84375 7.945312 33.28125 8.238281 35.1875 C 8.289062 35.527344 8.28125 35.523438 8.917969 35.523438 C 10.941406 35.523438 13.074219 34.207031 15.136719 31.6875 C 15.359375 31.417969 15.328125 31.425781 15.5625 31.574219 C 16.292969 32.042969 18.023438 32.964844 18.175781 32.964844 C 18.335938 32.964844 19.941406 32.210938 20.828125 31.71875 C 20.996094 31.625 21.136719 31.554688 21.136719 31.558594 C 21.203125 31.664062 21.898438 32.414062 22.222656 32.730469 C 23.835938 34.300781 25.5625 35.132812 27.582031 35.300781 C 27.90625 35.328125 27.9375 35.308594 28.007812 34.984375 C 28.382812 33.242188 27.625 30.925781 25.863281 28.425781 L 25.542969 27.96875 L 25.699219 27.785156 C 28.945312 23.960938 29.132812 18.699219 26.257812 11.96875 L 26.207031 11.84375 L 27.945312 12.703125 C 31.53125 14.476562 32.316406 14.800781 33.03125 14.800781 C 33.976562 14.800781 33.78125 13.9375 32.472656 12.292969 C 28.519531 7.355469 25.394531 5.925781 21.921875 7.472656 L 21.558594 7.636719 L 21.578125 7.542969 C 21.699219 6.992188 21.761719 5.742188 21.699219 5.164062 C 21.496094 3.296875 20.664062 1.964844 19.003906 0.855469 C 18.480469 0.503906 18.457031 0.5 18.214844 0.632812\"/>\n",
              "</g>\n",
              "      </svg>\n",
              "    "
            ]
          },
          "metadata": {}
        },
        {
          "name": "stdout",
          "output_type": "stream",
          "text": [
            "거북이의 회전 각도 : 45\n",
            "거북이의 이동거리: 50\n",
            "거북이의 회전 각도 : 45\n",
            "거북이의 이동거리: 50\n",
            "거북이의 회전 각도 : 45\n",
            "거북이의 이동거리: 50\n",
            "거북이의 회전 각도 : 45\n",
            "거북이의 이동거리: 50\n",
            "거북이의 회전 각도 : 45\n",
            "거북이의 이동거리: 50\n",
            "거북이의 회전 각도 : 450\n",
            "거북이의 이동거리: 45\n",
            "거북이의 회전 각도 : 115\n",
            "거북이의 이동거리: 45\n",
            "거북이의 회전 각도 : 10\n",
            "거북이의 이동거리: 1\n",
            "거북이의 회전 각도 : 1\n",
            "거북이의 이동거리: \n"
          ]
        },
        {
          "output_type": "error",
          "ename": "ValueError",
          "evalue": "ignored",
          "traceback": [
            "\u001b[0;31m---------------------------------------------------------------------------\u001b[0m",
            "\u001b[0;31mValueError\u001b[0m                                Traceback (most recent call last)",
            "\u001b[0;32m<ipython-input-30-190a0b9d8a05>\u001b[0m in \u001b[0;36m<module>\u001b[0;34m\u001b[0m\n\u001b[1;32m      7\u001b[0m   \u001b[0;32mif\u001b[0m \u001b[0mangle\u001b[0m \u001b[0;34m==\u001b[0m \u001b[0;36m0\u001b[0m \u001b[0;34m:\u001b[0m\u001b[0;34m\u001b[0m\u001b[0;34m\u001b[0m\u001b[0m\n\u001b[1;32m      8\u001b[0m     \u001b[0;32mbreak\u001b[0m\u001b[0;34m;\u001b[0m\u001b[0;34m\u001b[0m\u001b[0;34m\u001b[0m\u001b[0m\n\u001b[0;32m----> 9\u001b[0;31m   \u001b[0mdistance\u001b[0m \u001b[0;34m=\u001b[0m \u001b[0mint\u001b[0m\u001b[0;34m(\u001b[0m\u001b[0minput\u001b[0m\u001b[0;34m(\u001b[0m\u001b[0;34m\"거북이의 이동거리: \"\u001b[0m\u001b[0;34m)\u001b[0m\u001b[0;34m)\u001b[0m\u001b[0;34m\u001b[0m\u001b[0;34m\u001b[0m\u001b[0m\n\u001b[0m\u001b[1;32m     10\u001b[0m \u001b[0;34m\u001b[0m\u001b[0m\n\u001b[1;32m     11\u001b[0m   \u001b[0mturtle\u001b[0m\u001b[0;34m.\u001b[0m\u001b[0mleft\u001b[0m\u001b[0;34m(\u001b[0m\u001b[0mangle\u001b[0m\u001b[0;34m)\u001b[0m\u001b[0;34m\u001b[0m\u001b[0;34m\u001b[0m\u001b[0m\n",
            "\u001b[0;31mValueError\u001b[0m: invalid literal for int() with base 10: ''"
          ]
        }
      ]
    }
  ]
}