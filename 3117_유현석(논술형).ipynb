{
  "nbformat": 4,
  "nbformat_minor": 0,
  "metadata": {
    "colab": {
      "name": "3117-유현석(논술형).ipynb",
      "provenance": [],
      "authorship_tag": "ABX9TyN8eiM4fQxPr5RXs76yQ3NJ",
      "include_colab_link": true
    },
    "kernelspec": {
      "name": "python3",
      "display_name": "Python 3"
    },
    "language_info": {
      "name": "python"
    }
  },
  "cells": [
    {
      "cell_type": "markdown",
      "metadata": {
        "id": "view-in-github",
        "colab_type": "text"
      },
      "source": [
        "<a href=\"https://colab.research.google.com/github/Ayhseok0728/colab/blob/main/3117_%EC%9C%A0%ED%98%84%EC%84%9D(%EB%85%BC%EC%88%A0%ED%98%95).ipynb\" target=\"_parent\"><img src=\"https://colab.research.google.com/assets/colab-badge.svg\" alt=\"Open In Colab\"/></a>"
      ]
    },
    {
      "cell_type": "markdown",
      "source": [
        "2022학년도 응용프로그램이 개발 - 논술형\n",
        "컴퓨터과 3학년 1반 17번 유현석"
      ],
      "metadata": {
        "id": "-fCuONrZ6qKE"
      }
    },
    {
      "cell_type": "code",
      "execution_count": 4,
      "metadata": {
        "colab": {
          "base_uri": "https://localhost:8080/"
        },
        "id": "omd6ZxfL5_Bm",
        "outputId": "dc803172-82d9-40e5-b8b4-f96ca35b983e"
      },
      "outputs": [
        {
          "output_type": "stream",
          "name": "stdout",
          "text": [
            "첫 번째 숫자를 입력하시오 : 100\n",
            "두 번째 숫자를 입력하시오 : 5\n",
            "num1 + num2 =  105\n",
            "num1 - num2 =  95\n",
            "num1 * num2 =  500\n",
            "num1 / num2 =  20.0\n",
            "num1 % num2 =  0\n",
            "num1 // num2 =  20\n",
            "num1 ** num2 =  10000000000\n"
          ]
        }
      ],
      "source": [
        "num1 = int(input(\"첫 번째 숫자를 입력하시오 : \"))\n",
        "num2 = int(input(\"두 번째 숫자를 입력하시오 : \"))\n",
        "result1 = num1 + num2\n",
        "result2 = num1 - num2\n",
        "result3 = num1 * num2\n",
        "result4 = num1 / num2\n",
        "result5 = num1 % num2\n",
        "result6 = num1 //num2\n",
        "result7 = num1 ** num2\n",
        "\n",
        "print(\"num1 + num2 = \",result1)\n",
        "print(\"num1 - num2 = \",result2)\n",
        "print(\"num1 * num2 = \",result3)\n",
        "print(\"num1 / num2 = \",result4)\n",
        "print(\"num1 % num2 = \",result5)\n",
        "print(\"num1 // num2 = \",result6)\n",
        "print(\"num1 ** num2 = \",result7)"
      ]
    }
  ]
}