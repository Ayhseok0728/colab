{
  "nbformat": 4,
  "nbformat_minor": 0,
  "metadata": {
    "colab": {
      "name": "Lession2.ipynb",
      "provenance": [],
      "authorship_tag": "ABX9TyMfmyAKX3IEk28e7npAJjau",
      "include_colab_link": true
    },
    "kernelspec": {
      "name": "python3",
      "display_name": "Python 3"
    },
    "language_info": {
      "name": "python"
    }
  },
  "cells": [
    {
      "cell_type": "markdown",
      "metadata": {
        "id": "view-in-github",
        "colab_type": "text"
      },
      "source": [
        "<a href=\"https://colab.research.google.com/github/Ayhseok0728/colab/blob/main/Lession2.ipynb\" target=\"_parent\"><img src=\"https://colab.research.google.com/assets/colab-badge.svg\" alt=\"Open In Colab\"/></a>"
      ]
    },
    {
      "cell_type": "markdown",
      "source": [
        "2장 예제"
      ],
      "metadata": {
        "id": "n1ZHlZHBkc0n"
      }
    },
    {
      "cell_type": "markdown",
      "source": [
        "더하기 구하는 연산자: +"
      ],
      "metadata": {
        "id": "c2N8Br_Kn4-I"
      }
    },
    {
      "cell_type": "code",
      "execution_count": 1,
      "metadata": {
        "colab": {
          "base_uri": "https://localhost:8080/"
        },
        "id": "7qfCedsnix9A",
        "outputId": "a212a044-7d9a-4cbe-898e-b47e787785e1"
      },
      "outputs": [
        {
          "output_type": "stream",
          "name": "stdout",
          "text": [
            "100 + 200 = 300\n"
          ]
        }
      ],
      "source": [
        "a = 100\n",
        "b = 200\n",
        "c = a + b\n",
        "\n",
        "print(a, \"+\", b , \"=\", c)"
      ]
    },
    {
      "cell_type": "markdown",
      "source": [
        "빼기 구하는 연산자: -"
      ],
      "metadata": {
        "id": "s5k-oLKhn1ug"
      }
    },
    {
      "cell_type": "code",
      "source": [
        "num1 = 500\n",
        "num2 = 200\n",
        "result = num1 - num2\n",
        "print(num1, \"-\", num2, \"=\", result)"
      ],
      "metadata": {
        "colab": {
          "base_uri": "https://localhost:8080/"
        },
        "id": "1R_D9AN1loNv",
        "outputId": "8425a823-3aa4-40bc-f83a-fc02fc8a7d39"
      },
      "execution_count": 2,
      "outputs": [
        {
          "output_type": "stream",
          "name": "stdout",
          "text": [
            "500 - 200 = 300\n"
          ]
        }
      ]
    },
    {
      "cell_type": "markdown",
      "source": [
        "곱하기 구하는 연산자: *"
      ],
      "metadata": {
        "id": "clqpy_YsnyQP"
      }
    },
    {
      "cell_type": "code",
      "source": [
        "num1 = 8\n",
        "num2 = 17\n",
        "result = num1 * num2\n",
        "print(num1, \"*\", num2, \"=\", result)"
      ],
      "metadata": {
        "colab": {
          "base_uri": "https://localhost:8080/"
        },
        "id": "Iym5oA6Ml5om",
        "outputId": "a7acc4a9-3b14-4c2d-9097-e10ecf8111ce"
      },
      "execution_count": 3,
      "outputs": [
        {
          "output_type": "stream",
          "name": "stdout",
          "text": [
            "8 * 17 = 136\n"
          ]
        }
      ]
    },
    {
      "cell_type": "markdown",
      "source": [
        "나누기 구하는 연산자: /"
      ],
      "metadata": {
        "id": "Oi8gVFl8nsGn"
      }
    },
    {
      "cell_type": "code",
      "source": [
        "num1 = 8\n",
        "num2 = 17\n",
        "result = num1 / num2\n",
        "print(num1, \"/\", num2, \"=\", result)"
      ],
      "metadata": {
        "colab": {
          "base_uri": "https://localhost:8080/"
        },
        "id": "RagbYJKImhdx",
        "outputId": "10b625f3-5780-471a-d229-33ed2bb5e4b7"
      },
      "execution_count": 4,
      "outputs": [
        {
          "output_type": "stream",
          "name": "stdout",
          "text": [
            "8 / 17 = 0.47058823529411764\n"
          ]
        }
      ]
    },
    {
      "cell_type": "markdown",
      "source": [
        "나머지 구하는 연산자 %"
      ],
      "metadata": {
        "id": "SsGUUKshnndf"
      }
    },
    {
      "cell_type": "code",
      "source": [
        "num1 = 4\n",
        "num2 = 2\n",
        "result = num1 % num2\n",
        "print(num1, \"%\", num2, \"=\", result)"
      ],
      "metadata": {
        "colab": {
          "base_uri": "https://localhost:8080/"
        },
        "id": "zCUeElHjm2JY",
        "outputId": "0342e1e0-a16f-4666-92b4-40489081e34f"
      },
      "execution_count": 5,
      "outputs": [
        {
          "output_type": "stream",
          "name": "stdout",
          "text": [
            "4 % 2 = 0\n"
          ]
        }
      ]
    },
    {
      "cell_type": "markdown",
      "source": [
        "몫을 구하는 연산자: //"
      ],
      "metadata": {
        "id": "kAwzJpqSnh7o"
      }
    },
    {
      "cell_type": "code",
      "source": [
        "num1 = 4\n",
        "num2 = 2\n",
        "result = num1 // num2\n",
        "print(num1, \"//\", num2, \"=\", result)"
      ],
      "metadata": {
        "colab": {
          "base_uri": "https://localhost:8080/"
        },
        "id": "wPUESFODnSsu",
        "outputId": "a132716c-b5d7-4c1a-86d9-948fb199199f"
      },
      "execution_count": 6,
      "outputs": [
        {
          "output_type": "stream",
          "name": "stdout",
          "text": [
            "4 // 2 = 2\n"
          ]
        }
      ]
    },
    {
      "cell_type": "code",
      "source": [
        "str1 = \"안산공고\"\n",
        "str2 = \"컴퓨터과\"\n",
        "result = str1 + str2\n",
        "print(str1, \"+\", str2, \"=\", result)"
      ],
      "metadata": {
        "colab": {
          "base_uri": "https://localhost:8080/"
        },
        "id": "trx68FYloJTn",
        "outputId": "018b4719-68b9-4f0b-f813-bb1644060afa"
      },
      "execution_count": 8,
      "outputs": [
        {
          "output_type": "stream",
          "name": "stdout",
          "text": [
            "안산공고 + 컴퓨터과 = 안산공고컴퓨터과\n"
          ]
        }
      ]
    },
    {
      "cell_type": "code",
      "source": [
        "str1 = \"안산공고\"\n",
        "result = str1 * 5\n",
        "print(str1, \"*\", 5, \"=\", result)"
      ],
      "metadata": {
        "colab": {
          "base_uri": "https://localhost:8080/"
        },
        "id": "YCGiVXXzorNn",
        "outputId": "0b86649a-48bd-489d-c7e4-f84900379767"
      },
      "execution_count": 9,
      "outputs": [
        {
          "output_type": "stream",
          "name": "stdout",
          "text": [
            "안산공고 * 5 = 안산공고안산공고안산공고안산공고안산공고\n"
          ]
        }
      ]
    },
    {
      "cell_type": "markdown",
      "source": [
        "2장 형성평가 '첫번째'"
      ],
      "metadata": {
        "id": "ZzRWQppBpLvw"
      }
    },
    {
      "cell_type": "code",
      "source": [
        "num1 = 100\n",
        "num2 = 200\n",
        "result1 = num1 + num2\n",
        "result2 = num1 - num2\n",
        "result3 = num1 * num2\n",
        "result4 = num1 / num2\n",
        "print(num1, \"+\", num2, \"=\", result1)\n",
        "print(num1, \"-\", num2, \"=\", result2)\n",
        "print(num1, \"*\", num2, \"=\", result3)\n",
        "print(num1, \"/\", num2, \"=\", result4)"
      ],
      "metadata": {
        "colab": {
          "base_uri": "https://localhost:8080/"
        },
        "id": "bmcWMyFWpQfA",
        "outputId": "ab8cc731-01b0-4ae3-8bb2-6cc3ca7f1d0a"
      },
      "execution_count": 11,
      "outputs": [
        {
          "output_type": "stream",
          "name": "stdout",
          "text": [
            "100 + 200 = 300\n",
            "100 - 200 = -100\n",
            "100 * 200 = 20000\n",
            "100 / 200 = 0.5\n"
          ]
        }
      ]
    },
    {
      "cell_type": "code",
      "source": [
        "num1 = int(input(\"숫자1 ==>\"))\n",
        "num2 = int(input(\"숫자2 ==>\"))\n",
        "result = num1 + num2\n",
        "print(num1, \"+\", num2, \"=\", result)"
      ],
      "metadata": {
        "colab": {
          "base_uri": "https://localhost:8080/"
        },
        "id": "acYYwHfUr6K5",
        "outputId": "7e8a85ce-211a-475a-df54-b24826af6dc7"
      },
      "execution_count": 13,
      "outputs": [
        {
          "output_type": "stream",
          "name": "stdout",
          "text": [
            "숫자1 ==>1000000000000\n",
            "숫자2 ==>2000000000000\n",
            "1000000000000 + 2000000000000 = 3000000000000\n"
          ]
        }
      ]
    },
    {
      "cell_type": "code",
      "source": [
        "str1 = input(\"이름 ==>\")\n",
        "num1 = input(\"전화번호 ==>\")\n",
        "result = str1 + num1\n",
        "print(\"제이름은 \", str1,\"이고\", \"연락처는 \", num1)"
      ],
      "metadata": {
        "colab": {
          "base_uri": "https://localhost:8080/"
        },
        "id": "YCBO_M_vtX8-",
        "outputId": "3f14da8e-753c-46e0-f0ed-b0b4af6119f6"
      },
      "execution_count": 17,
      "outputs": [
        {
          "output_type": "stream",
          "name": "stdout",
          "text": [
            "이름 ==>난처음\n",
            "전화번호 ==>010-1234-1234\n",
            "제이름은  난처음 연락처는  010-1234-1234\n"
          ]
        }
      ]
    },
    {
      "cell_type": "code",
      "source": [
        "print(\"## 택배를 보내기 위한 정보를 입력하세요. ##\")\n",
        "str1 = input(\"받는 사람 :\")\n",
        "str2 = input(\"주소 :\")\n",
        "\n",
        "num1 = int(input(\"무게(g):\"))\n",
        "print(\"받는 사람 :\",str1)\n",
        "print(\"주소:\", str2)\n",
        "print(\"배송비\",num1 * 5,\"원\")"
      ],
      "metadata": {
        "colab": {
          "base_uri": "https://localhost:8080/"
        },
        "id": "IbA4lZe2uOYy",
        "outputId": "81070d8f-5812-4bb3-b306-48336b5a2c4b"
      },
      "execution_count": 20,
      "outputs": [
        {
          "output_type": "stream",
          "name": "stdout",
          "text": [
            "## 택배를 보내기 위한 정보를 입력하세요. ##\n",
            "받는 사람 :김난생\n",
            "주소 :서울 영등포구 여의도동 88\n",
            "무게(g):721\n",
            "받는 사람 : 김난생\n",
            "주소: 서울 영등포구 여의도동 88\n",
            "배송비 3605 원\n"
          ]
        }
      ]
    },
    {
      "cell_type": "code",
      "source": [
        "num1 = int(input(\"숫자1:\"))\n",
        "num2 = int(input(\"숫자2:\"))\n",
        "result1 = num1 + num2\n",
        "result2 = num1 - num2\n",
        "result3 = num1 * num2\n",
        "result4 = num1 / num2\n",
        "result5 = num1 % num2\n",
        "result6 = num1 ** num2\n",
        "print(num1, \"+\", num2, \"=\", result1)\n",
        "print(num1, \"-\", num2, \"=\", result2)\n",
        "print(num1, \"*\", num2, \"=\", result3)\n",
        "print(num1, \"/\", num2, \"=\", result4)\n",
        "print(num1, \"%\", num2, \"=\", result5)\n",
        "print(num1, \"**\", num2, \"=\", result6)"
      ],
      "metadata": {
        "colab": {
          "base_uri": "https://localhost:8080/"
        },
        "id": "rVE84qPHwwux",
        "outputId": "30a75164-cdd0-4205-f5d0-237d5b16f8c6"
      },
      "execution_count": 24,
      "outputs": [
        {
          "output_type": "stream",
          "name": "stdout",
          "text": [
            "숫자1:1\n",
            "숫자2:2\n",
            "1 + 2 = 3\n",
            "1 - 2 = -1\n",
            "1 * 2 = 2\n",
            "1 / 2 = 0.5\n",
            "1 % 2 = 1\n",
            "1 ** 2 = 1\n"
          ]
        }
      ]
    },
    {
      "cell_type": "code",
      "source": [
        "#!pip3 install ColabTurtle\n",
        "import ColabTurtle.Turtle as turtle\n",
        "\n",
        "turtle.initializeTurtle()\n",
        "turtle.left(3) \n",
        "turtle.forward(5)\n",
        "turtle.left(3) \n",
        "turtle.forward(5)\n",
        "turtle.left(3) \n",
        "turtle.forward(5)\n",
        "turtle.left(3) \n",
        "turtle.forward(5)\n",
        "turtle.left(3) \n",
        "turtle.forward(5)\n",
        "turtle.left(3) \n",
        "turtle.forward(5)\n",
        "turtle.left(3) \n",
        "turtle.forward(5)\n",
        "turtle.left(3) \n",
        "turtle.forward(5)\n",
        "turtle.left(3) \n",
        "turtle.forward(5)\n",
        "turtle.left(3) \n",
        "turtle.forward(5)\n",
        "turtle.left(3) \n",
        "turtle.forward(5)\n",
        "turtle.left(3) \n",
        "turtle.forward(5)\n",
        "turtle.left(3) \n",
        "turtle.forward(5)\n",
        "turtle.left(3) \n",
        "turtle.forward(5)\n",
        "turtle.left(3) \n",
        "turtle.forward(5)\n",
        "turtle.left(3) \n",
        "turtle.forward(5)\n",
        "turtle.left(3) \n",
        "turtle.forward(5)\n",
        "turtle.left(3) \n",
        "turtle.forward(5)\n",
        "turtle.left(3) \n",
        "turtle.forward(5)\n",
        "turtle.left(3) \n",
        "turtle.forward(5)\n",
        "turtle.left(3) \n",
        "turtle.forward(5)\n",
        "turtle.left(3) \n",
        "turtle.forward(5)\n",
        "turtle.left(3) \n",
        "turtle.forward(5)\n",
        "turtle.left(3) \n",
        "turtle.forward(5)\n",
        "turtle.left(3) \n",
        "turtle.forward(5)\n",
        "turtle.left(3) \n",
        "turtle.forward(5)\n",
        "turtle.left(3) \n",
        "turtle.forward(5)\n",
        "turtle.left(3) \n",
        "turtle.forward(5)\n",
        "turtle.left(3) \n",
        "turtle.forward(5)\n",
        "turtle.left(3) \n",
        "turtle.forward(5)\n",
        "turtle.left(3) \n",
        "turtle.forward(5)\n",
        "turtle.left(3) \n",
        "turtle.forward(5)\n",
        "turtle.left(3) \n",
        "turtle.forward(5)\n",
        "turtle.left(3) \n",
        "turtle.forward(5)\n",
        "turtle.left(3) \n",
        "turtle.forward(5)\n",
        "turtle.left(3) \n",
        "turtle.forward(5)\n",
        "turtle.left(3) \n",
        "turtle.forward(5)\n",
        "turtle.left(3) \n",
        "turtle.forward(5)\n",
        "turtle.left(3) \n",
        "turtle.forward(5)\n",
        "turtle.left(3) \n",
        "turtle.forward(5)\n",
        "turtle.left(3) \n",
        "turtle.forward(5)\n",
        "turtle.left(3) \n",
        "turtle.forward(5)\n",
        "turtle.left(3) \n",
        "turtle.forward(5)\n",
        "turtle.left(3) \n",
        "turtle.forward(5)\n",
        "turtle.left(3) \n",
        "turtle.forward(5)\n",
        "turtle.left(3) \n",
        "turtle.forward(5)\n",
        "turtle.left(3) \n",
        "turtle.forward(5)\n",
        "turtle.left(3) \n",
        "turtle.forward(5)\n",
        "turtle.left(3) \n",
        "turtle.forward(5)\n",
        "turtle.left(3) \n",
        "turtle.forward(5)\n",
        "turtle.left(3) \n",
        "turtle.forward(5)\n",
        "turtle.left(3) \n",
        "turtle.forward(5)\n",
        "turtle.left(3) \n",
        "turtle.forward(5)\n",
        "turtle.left(3) \n",
        "turtle.forward(5)\n",
        "turtle.left(3) \n",
        "turtle.forward(5)\n",
        "turtle.left(3) \n",
        "turtle.forward(5)\n",
        "turtle.left(3) \n",
        "turtle.forward(5)\n",
        "turtle.left(3) \n",
        "turtle.forward(5)\n",
        "turtle.left(3) \n",
        "turtle.forward(5)\n",
        "turtle.left(3) \n",
        "turtle.forward(5)\n",
        "turtle.left(3) \n",
        "turtle.forward(5)\n",
        "turtle.left(3) \n",
        "turtle.forward(5)\n",
        "turtle.left(3) \n",
        "turtle.forward(5)\n",
        "turtle.left(3) \n",
        "turtle.forward(5)\n",
        "turtle.left(3) \n",
        "turtle.forward(5)\n",
        "turtle.left(3) \n",
        "turtle.forward(5)\n",
        "turtle.left(3) \n",
        "turtle.forward(5)\n",
        "turtle.left(3) \n",
        "turtle.forward(5)\n",
        "turtle.left(3) \n",
        "turtle.forward(5)\n",
        "turtle.left(3) \n",
        "turtle.forward(5)\n",
        "turtle.left(3) \n",
        "turtle.forward(5)\n",
        "turtle.left(3) \n",
        "turtle.forward(5)\n",
        "turtle.left(3) \n",
        "turtle.forward(5)\n",
        "turtle.left(3) \n",
        "turtle.forward(5)\n",
        "turtle.left(3) \n",
        "turtle.forward(5)\n",
        "turtle.left(3) \n",
        "turtle.forward(5)\n",
        "turtle.left(3) \n",
        "turtle.forward(5)\n",
        "turtle.left(3) \n",
        "turtle.forward(5)\n",
        "turtle.left(3) \n",
        "turtle.forward(5)\n",
        "turtle.left(3) \n",
        "turtle.forward(5)\n",
        "turtle.left(3) \n",
        "turtle.forward(5)\n",
        "turtle.left(3) \n",
        "turtle.forward(5)\n",
        "turtle.left(3) \n",
        "turtle.forward(5)\n",
        "turtle.left(3) \n",
        "turtle.forward(5)\n",
        "turtle.left(3) \n",
        "turtle.forward(5)\n",
        "turtle.left(3) \n",
        "turtle.forward(5)\n",
        "turtle.left(3) \n",
        "turtle.forward(5)\n",
        "turtle.left(3) \n",
        "turtle.forward(5)\n",
        "turtle.left(3) \n",
        "turtle.forward(5)\n",
        "turtle.left(3) \n",
        "turtle.forward(5)\n",
        "turtle.left(3) \n",
        "turtle.forward(5)\n",
        "turtle.left(3) \n",
        "turtle.forward(5)\n",
        "turtle.left(3) \n",
        "turtle.forward(5)\n",
        "turtle.left(3) \n",
        "turtle.forward(5)\n",
        "turtle.left(3) \n",
        "turtle.forward(5)\n",
        "turtle.left(3) \n",
        "turtle.forward(5)\n",
        "turtle.left(3) \n",
        "turtle.forward(5)\n",
        "turtle.left(3) \n",
        "turtle.forward(5)\n",
        "turtle.left(3) \n",
        "turtle.forward(5)\n",
        "turtle.left(3) \n",
        "turtle.forward(5)\n",
        "turtle.left(3) \n",
        "turtle.forward(5)\n",
        "turtle.left(3) \n",
        "turtle.forward(5)\n",
        "turtle.left(3) \n",
        "turtle.forward(5)\n",
        "turtle.left(3) \n",
        "turtle.forward(5)\n",
        "turtle.left(3) \n",
        "turtle.forward(5)\n",
        "turtle.left(3) \n",
        "turtle.forward(5)\n",
        "turtle.left(3) \n",
        "turtle.forward(5)\n",
        "turtle.left(3) \n",
        "turtle.forward(5)\n",
        "turtle.left(3) \n",
        "turtle.forward(5)\n",
        "turtle.left(3) \n",
        "turtle.forward(5)\n",
        "turtle.left(3) \n",
        "turtle.forward(5)\n",
        "turtle.left(3) \n",
        "turtle.forward(5)\n",
        "turtle.left(3) \n",
        "turtle.forward(5)\n",
        "turtle.left(3) \n",
        "turtle.forward(5)\n",
        "turtle.left(3) \n",
        "turtle.forward(5)\n",
        "turtle.left(3) \n",
        "turtle.forward(5)\n",
        "turtle.left(3) \n",
        "turtle.forward(5)\n",
        "turtle.left(3) \n",
        "turtle.forward(5)\n",
        "turtle.left(3) \n",
        "turtle.forward(5)\n",
        "turtle.left(3) \n",
        "turtle.forward(5)\n",
        "turtle.left(3) \n",
        "turtle.forward(5)\n",
        "turtle.left(3) \n",
        "turtle.forward(5)\n",
        "turtle.left(3) \n",
        "turtle.forward(5)\n",
        "turtle.left(3) \n",
        "turtle.forward(5)\n",
        "turtle.left(3) \n",
        "turtle.forward(5)\n",
        "turtle.left(3) \n",
        "turtle.forward(5)\n",
        "turtle.left(3) \n",
        "turtle.forward(5)\n",
        "turtle.left(3) \n",
        "turtle.forward(5)\n",
        "turtle.left(3) \n",
        "turtle.forward(5)\n",
        "turtle.left(3) \n",
        "turtle.forward(5)\n",
        "turtle.left(3) \n",
        "turtle.forward(5)\n",
        "turtle.left(3) \n",
        "turtle.forward(5)\n",
        "turtle.left(3) \n",
        "turtle.forward(5)\n",
        "turtle.left(3) \n",
        "turtle.forward(5)\n",
        "turtle.left(3) \n",
        "turtle.forward(5)\n",
        "turtle.left(3) \n",
        "turtle.forward(5)"
      ],
      "metadata": {
        "colab": {
          "base_uri": "https://localhost:8080/",
          "height": 901
        },
        "id": "bLDTHpfKx0aB",
        "outputId": "5e86d9d0-d460-4809-f243-4b137f33ac0e"
      },
      "execution_count": 67,
      "outputs": [
        {
          "output_type": "display_data",
          "data": {
            "text/plain": [
              "<IPython.core.display.HTML object>"
            ],
            "text/html": [
              "\n",
              "      <svg width=\"800\" height=\"500\">\n",
              "        <rect width=\"100%\" height=\"100%\" fill=\"black\"/>\n",
              "        <line x1=\"400\" y1=\"250\" x2=\"399.738\" y2=\"245.007\" stroke-linecap=\"round\" style=\"stroke:white;stroke-width:4\"/><line x1=\"399.738\" y1=\"245.007\" x2=\"399.215\" y2=\"240.034\" stroke-linecap=\"round\" style=\"stroke:white;stroke-width:4\"/><line x1=\"399.215\" y1=\"240.034\" x2=\"398.433\" y2=\"235.096\" stroke-linecap=\"round\" style=\"stroke:white;stroke-width:4\"/><line x1=\"398.433\" y1=\"235.096\" x2=\"397.393\" y2=\"230.205\" stroke-linecap=\"round\" style=\"stroke:white;stroke-width:4\"/><line x1=\"397.393\" y1=\"230.205\" x2=\"396.099\" y2=\"225.375\" stroke-linecap=\"round\" style=\"stroke:white;stroke-width:4\"/><line x1=\"396.099\" y1=\"225.375\" x2=\"394.554\" y2=\"220.62\" stroke-linecap=\"round\" style=\"stroke:white;stroke-width:4\"/><line x1=\"394.554\" y1=\"220.62\" x2=\"392.762\" y2=\"215.952\" stroke-linecap=\"round\" style=\"stroke:white;stroke-width:4\"/><line x1=\"392.762\" y1=\"215.952\" x2=\"390.728\" y2=\"211.384\" stroke-linecap=\"round\" style=\"stroke:white;stroke-width:4\"/><line x1=\"390.728\" y1=\"211.384\" x2=\"388.458\" y2=\"206.929\" stroke-linecap=\"round\" style=\"stroke:white;stroke-width:4\"/><line x1=\"388.458\" y1=\"206.929\" x2=\"385.958\" y2=\"202.599\" stroke-linecap=\"round\" style=\"stroke:white;stroke-width:4\"/><line x1=\"385.958\" y1=\"202.599\" x2=\"383.235\" y2=\"198.406\" stroke-linecap=\"round\" style=\"stroke:white;stroke-width:4\"/><line x1=\"383.235\" y1=\"198.406\" x2=\"380.296\" y2=\"194.361\" stroke-linecap=\"round\" style=\"stroke:white;stroke-width:4\"/><line x1=\"380.296\" y1=\"194.361\" x2=\"377.149\" y2=\"190.475\" stroke-linecap=\"round\" style=\"stroke:white;stroke-width:4\"/><line x1=\"377.149\" y1=\"190.475\" x2=\"373.803\" y2=\"186.759\" stroke-linecap=\"round\" style=\"stroke:white;stroke-width:4\"/><line x1=\"373.803\" y1=\"186.759\" x2=\"370.267\" y2=\"183.223\" stroke-linecap=\"round\" style=\"stroke:white;stroke-width:4\"/><line x1=\"370.267\" y1=\"183.223\" x2=\"366.551\" y2=\"179.877\" stroke-linecap=\"round\" style=\"stroke:white;stroke-width:4\"/><line x1=\"366.551\" y1=\"179.877\" x2=\"362.665\" y2=\"176.73\" stroke-linecap=\"round\" style=\"stroke:white;stroke-width:4\"/><line x1=\"362.665\" y1=\"176.73\" x2=\"358.62\" y2=\"173.791\" stroke-linecap=\"round\" style=\"stroke:white;stroke-width:4\"/><line x1=\"358.62\" y1=\"173.791\" x2=\"354.427\" y2=\"171.068\" stroke-linecap=\"round\" style=\"stroke:white;stroke-width:4\"/><line x1=\"354.427\" y1=\"171.068\" x2=\"350.097\" y2=\"168.568\" stroke-linecap=\"round\" style=\"stroke:white;stroke-width:4\"/><line x1=\"350.097\" y1=\"168.568\" x2=\"345.642\" y2=\"166.298\" stroke-linecap=\"round\" style=\"stroke:white;stroke-width:4\"/><line x1=\"345.642\" y1=\"166.298\" x2=\"341.074\" y2=\"164.264\" stroke-linecap=\"round\" style=\"stroke:white;stroke-width:4\"/><line x1=\"341.074\" y1=\"164.264\" x2=\"336.406\" y2=\"162.472\" stroke-linecap=\"round\" style=\"stroke:white;stroke-width:4\"/><line x1=\"336.406\" y1=\"162.472\" x2=\"331.651\" y2=\"160.927\" stroke-linecap=\"round\" style=\"stroke:white;stroke-width:4\"/><line x1=\"331.651\" y1=\"160.927\" x2=\"326.821\" y2=\"159.633\" stroke-linecap=\"round\" style=\"stroke:white;stroke-width:4\"/><line x1=\"326.821\" y1=\"159.633\" x2=\"321.93\" y2=\"158.593\" stroke-linecap=\"round\" style=\"stroke:white;stroke-width:4\"/><line x1=\"321.93\" y1=\"158.593\" x2=\"316.992\" y2=\"157.811\" stroke-linecap=\"round\" style=\"stroke:white;stroke-width:4\"/><line x1=\"316.992\" y1=\"157.811\" x2=\"312.019\" y2=\"157.288\" stroke-linecap=\"round\" style=\"stroke:white;stroke-width:4\"/><line x1=\"312.019\" y1=\"157.288\" x2=\"307.026\" y2=\"157.026\" stroke-linecap=\"round\" style=\"stroke:white;stroke-width:4\"/><line x1=\"307.026\" y1=\"157.026\" x2=\"302.026\" y2=\"157.026\" stroke-linecap=\"round\" style=\"stroke:white;stroke-width:4\"/><line x1=\"302.026\" y1=\"157.026\" x2=\"297.033\" y2=\"157.288\" stroke-linecap=\"round\" style=\"stroke:white;stroke-width:4\"/><line x1=\"297.033\" y1=\"157.288\" x2=\"292.06\" y2=\"157.811\" stroke-linecap=\"round\" style=\"stroke:white;stroke-width:4\"/><line x1=\"292.06\" y1=\"157.811\" x2=\"287.122\" y2=\"158.593\" stroke-linecap=\"round\" style=\"stroke:white;stroke-width:4\"/><line x1=\"287.122\" y1=\"158.593\" x2=\"282.231\" y2=\"159.633\" stroke-linecap=\"round\" style=\"stroke:white;stroke-width:4\"/><line x1=\"282.231\" y1=\"159.633\" x2=\"277.401\" y2=\"160.927\" stroke-linecap=\"round\" style=\"stroke:white;stroke-width:4\"/><line x1=\"277.401\" y1=\"160.927\" x2=\"272.646\" y2=\"162.472\" stroke-linecap=\"round\" style=\"stroke:white;stroke-width:4\"/><line x1=\"272.646\" y1=\"162.472\" x2=\"267.978\" y2=\"164.264\" stroke-linecap=\"round\" style=\"stroke:white;stroke-width:4\"/><line x1=\"267.978\" y1=\"164.264\" x2=\"263.41\" y2=\"166.298\" stroke-linecap=\"round\" style=\"stroke:white;stroke-width:4\"/><line x1=\"263.41\" y1=\"166.298\" x2=\"258.955\" y2=\"168.568\" stroke-linecap=\"round\" style=\"stroke:white;stroke-width:4\"/><line x1=\"258.955\" y1=\"168.568\" x2=\"254.625\" y2=\"171.068\" stroke-linecap=\"round\" style=\"stroke:white;stroke-width:4\"/><line x1=\"254.625\" y1=\"171.068\" x2=\"250.432\" y2=\"173.791\" stroke-linecap=\"round\" style=\"stroke:white;stroke-width:4\"/><line x1=\"250.432\" y1=\"173.791\" x2=\"246.387\" y2=\"176.73\" stroke-linecap=\"round\" style=\"stroke:white;stroke-width:4\"/><line x1=\"246.387\" y1=\"176.73\" x2=\"242.501\" y2=\"179.877\" stroke-linecap=\"round\" style=\"stroke:white;stroke-width:4\"/><line x1=\"242.501\" y1=\"179.877\" x2=\"238.785\" y2=\"183.223\" stroke-linecap=\"round\" style=\"stroke:white;stroke-width:4\"/><line x1=\"238.785\" y1=\"183.223\" x2=\"235.249\" y2=\"186.759\" stroke-linecap=\"round\" style=\"stroke:white;stroke-width:4\"/><line x1=\"235.249\" y1=\"186.759\" x2=\"231.903\" y2=\"190.475\" stroke-linecap=\"round\" style=\"stroke:white;stroke-width:4\"/><line x1=\"231.903\" y1=\"190.475\" x2=\"228.756\" y2=\"194.361\" stroke-linecap=\"round\" style=\"stroke:white;stroke-width:4\"/><line x1=\"228.756\" y1=\"194.361\" x2=\"225.817\" y2=\"198.406\" stroke-linecap=\"round\" style=\"stroke:white;stroke-width:4\"/><line x1=\"225.817\" y1=\"198.406\" x2=\"223.094\" y2=\"202.599\" stroke-linecap=\"round\" style=\"stroke:white;stroke-width:4\"/><line x1=\"223.094\" y1=\"202.599\" x2=\"220.594\" y2=\"206.929\" stroke-linecap=\"round\" style=\"stroke:white;stroke-width:4\"/><line x1=\"220.594\" y1=\"206.929\" x2=\"218.324\" y2=\"211.384\" stroke-linecap=\"round\" style=\"stroke:white;stroke-width:4\"/><line x1=\"218.324\" y1=\"211.384\" x2=\"216.29\" y2=\"215.952\" stroke-linecap=\"round\" style=\"stroke:white;stroke-width:4\"/><line x1=\"216.29\" y1=\"215.952\" x2=\"214.498\" y2=\"220.62\" stroke-linecap=\"round\" style=\"stroke:white;stroke-width:4\"/><line x1=\"214.498\" y1=\"220.62\" x2=\"212.953\" y2=\"225.375\" stroke-linecap=\"round\" style=\"stroke:white;stroke-width:4\"/><line x1=\"212.953\" y1=\"225.375\" x2=\"211.659\" y2=\"230.205\" stroke-linecap=\"round\" style=\"stroke:white;stroke-width:4\"/><line x1=\"211.659\" y1=\"230.205\" x2=\"210.619\" y2=\"235.096\" stroke-linecap=\"round\" style=\"stroke:white;stroke-width:4\"/><line x1=\"210.619\" y1=\"235.096\" x2=\"209.837\" y2=\"240.034\" stroke-linecap=\"round\" style=\"stroke:white;stroke-width:4\"/><line x1=\"209.837\" y1=\"240.034\" x2=\"209.314\" y2=\"245.007\" stroke-linecap=\"round\" style=\"stroke:white;stroke-width:4\"/><line x1=\"209.314\" y1=\"245.007\" x2=\"209.052\" y2=\"250.0\" stroke-linecap=\"round\" style=\"stroke:white;stroke-width:4\"/><line x1=\"209.052\" y1=\"250.0\" x2=\"209.052\" y2=\"255.0\" stroke-linecap=\"round\" style=\"stroke:white;stroke-width:4\"/>\n",
              "        <g visibility=visible transform=\"rotate(177,209.052,255.0) translate(191.052, 237.0)\">\n",
              "<path style=\" stroke:none;fill-rule:evenodd;fill:white;fill-opacity:1;\" d=\"M 18.214844 0.632812 C 16.109375 1.800781 15.011719 4.074219 15.074219 7.132812 L 15.085938 7.652344 L 14.785156 7.496094 C 13.476562 6.824219 11.957031 6.671875 10.40625 7.066406 C 8.46875 7.550781 6.515625 9.15625 4.394531 11.992188 C 3.0625 13.777344 2.679688 14.636719 3.042969 15.027344 L 3.15625 15.152344 L 3.519531 15.152344 C 4.238281 15.152344 4.828125 14.886719 8.1875 13.039062 C 9.386719 12.378906 10.371094 11.839844 10.378906 11.839844 C 10.386719 11.839844 10.355469 11.929688 10.304688 12.035156 C 9.832031 13.09375 9.257812 14.820312 8.96875 16.078125 C 7.914062 20.652344 8.617188 24.53125 11.070312 27.660156 C 11.351562 28.015625 11.363281 27.914062 10.972656 28.382812 C 8.925781 30.84375 7.945312 33.28125 8.238281 35.1875 C 8.289062 35.527344 8.28125 35.523438 8.917969 35.523438 C 10.941406 35.523438 13.074219 34.207031 15.136719 31.6875 C 15.359375 31.417969 15.328125 31.425781 15.5625 31.574219 C 16.292969 32.042969 18.023438 32.964844 18.175781 32.964844 C 18.335938 32.964844 19.941406 32.210938 20.828125 31.71875 C 20.996094 31.625 21.136719 31.554688 21.136719 31.558594 C 21.203125 31.664062 21.898438 32.414062 22.222656 32.730469 C 23.835938 34.300781 25.5625 35.132812 27.582031 35.300781 C 27.90625 35.328125 27.9375 35.308594 28.007812 34.984375 C 28.382812 33.242188 27.625 30.925781 25.863281 28.425781 L 25.542969 27.96875 L 25.699219 27.785156 C 28.945312 23.960938 29.132812 18.699219 26.257812 11.96875 L 26.207031 11.84375 L 27.945312 12.703125 C 31.53125 14.476562 32.316406 14.800781 33.03125 14.800781 C 33.976562 14.800781 33.78125 13.9375 32.472656 12.292969 C 28.519531 7.355469 25.394531 5.925781 21.921875 7.472656 L 21.558594 7.636719 L 21.578125 7.542969 C 21.699219 6.992188 21.761719 5.742188 21.699219 5.164062 C 21.496094 3.296875 20.664062 1.964844 19.003906 0.855469 C 18.480469 0.503906 18.457031 0.5 18.214844 0.632812\"/>\n",
              "</g>\n",
              "      </svg>\n",
              "    "
            ]
          },
          "metadata": {}
        },
        {
          "output_type": "error",
          "ename": "KeyboardInterrupt",
          "evalue": "ignored",
          "traceback": [
            "\u001b[0;31m---------------------------------------------------------------------------\u001b[0m",
            "\u001b[0;31mKeyboardInterrupt\u001b[0m                         Traceback (most recent call last)",
            "\u001b[0;32m<ipython-input-67-fde2e77460d7>\u001b[0m in \u001b[0;36m<module>\u001b[0;34m\u001b[0m\n\u001b[1;32m    124\u001b[0m \u001b[0mturtle\u001b[0m\u001b[0;34m.\u001b[0m\u001b[0mforward\u001b[0m\u001b[0;34m(\u001b[0m\u001b[0;36m5\u001b[0m\u001b[0;34m)\u001b[0m\u001b[0;34m\u001b[0m\u001b[0;34m\u001b[0m\u001b[0m\n\u001b[1;32m    125\u001b[0m \u001b[0mturtle\u001b[0m\u001b[0;34m.\u001b[0m\u001b[0mleft\u001b[0m\u001b[0;34m(\u001b[0m\u001b[0;36m3\u001b[0m\u001b[0;34m)\u001b[0m\u001b[0;34m\u001b[0m\u001b[0;34m\u001b[0m\u001b[0m\n\u001b[0;32m--> 126\u001b[0;31m \u001b[0mturtle\u001b[0m\u001b[0;34m.\u001b[0m\u001b[0mforward\u001b[0m\u001b[0;34m(\u001b[0m\u001b[0;36m5\u001b[0m\u001b[0;34m)\u001b[0m\u001b[0;34m\u001b[0m\u001b[0;34m\u001b[0m\u001b[0m\n\u001b[0m\u001b[1;32m    127\u001b[0m \u001b[0mturtle\u001b[0m\u001b[0;34m.\u001b[0m\u001b[0mleft\u001b[0m\u001b[0;34m(\u001b[0m\u001b[0;36m3\u001b[0m\u001b[0;34m)\u001b[0m\u001b[0;34m\u001b[0m\u001b[0;34m\u001b[0m\u001b[0m\n\u001b[1;32m    128\u001b[0m \u001b[0mturtle\u001b[0m\u001b[0;34m.\u001b[0m\u001b[0mforward\u001b[0m\u001b[0;34m(\u001b[0m\u001b[0;36m5\u001b[0m\u001b[0;34m)\u001b[0m\u001b[0;34m\u001b[0m\u001b[0;34m\u001b[0m\u001b[0m\n",
            "\u001b[0;32m/usr/local/lib/python3.7/dist-packages/ColabTurtle/Turtle.py\u001b[0m in \u001b[0;36mforward\u001b[0;34m(units)\u001b[0m\n\u001b[1;32m    172\u001b[0m     \u001b[0mending_point\u001b[0m \u001b[0;34m=\u001b[0m \u001b[0;34m(\u001b[0m\u001b[0mturtle_pos\u001b[0m\u001b[0;34m[\u001b[0m\u001b[0;36m0\u001b[0m\u001b[0;34m]\u001b[0m \u001b[0;34m+\u001b[0m \u001b[0munits\u001b[0m \u001b[0;34m*\u001b[0m \u001b[0mmath\u001b[0m\u001b[0;34m.\u001b[0m\u001b[0mcos\u001b[0m\u001b[0;34m(\u001b[0m\u001b[0malpha\u001b[0m\u001b[0;34m)\u001b[0m\u001b[0;34m,\u001b[0m \u001b[0mturtle_pos\u001b[0m\u001b[0;34m[\u001b[0m\u001b[0;36m1\u001b[0m\u001b[0;34m]\u001b[0m \u001b[0;34m+\u001b[0m \u001b[0munits\u001b[0m \u001b[0;34m*\u001b[0m \u001b[0mmath\u001b[0m\u001b[0;34m.\u001b[0m\u001b[0msin\u001b[0m\u001b[0;34m(\u001b[0m\u001b[0malpha\u001b[0m\u001b[0;34m)\u001b[0m\u001b[0;34m)\u001b[0m\u001b[0;34m\u001b[0m\u001b[0;34m\u001b[0m\u001b[0m\n\u001b[1;32m    173\u001b[0m \u001b[0;34m\u001b[0m\u001b[0m\n\u001b[0;32m--> 174\u001b[0;31m     \u001b[0m_moveToNewPosition\u001b[0m\u001b[0;34m(\u001b[0m\u001b[0mending_point\u001b[0m\u001b[0;34m)\u001b[0m\u001b[0;34m\u001b[0m\u001b[0;34m\u001b[0m\u001b[0m\n\u001b[0m\u001b[1;32m    175\u001b[0m \u001b[0;34m\u001b[0m\u001b[0m\n\u001b[1;32m    176\u001b[0m \u001b[0mfd\u001b[0m \u001b[0;34m=\u001b[0m \u001b[0mforward\u001b[0m \u001b[0;31m# alias\u001b[0m\u001b[0;34m\u001b[0m\u001b[0;34m\u001b[0m\u001b[0m\n",
            "\u001b[0;32m/usr/local/lib/python3.7/dist-packages/ColabTurtle/Turtle.py\u001b[0m in \u001b[0;36m_moveToNewPosition\u001b[0;34m(new_pos)\u001b[0m\n\u001b[1;32m    161\u001b[0m \u001b[0;34m\u001b[0m\u001b[0m\n\u001b[1;32m    162\u001b[0m     \u001b[0mturtle_pos\u001b[0m \u001b[0;34m=\u001b[0m \u001b[0mnew_pos\u001b[0m\u001b[0;34m\u001b[0m\u001b[0;34m\u001b[0m\u001b[0m\n\u001b[0;32m--> 163\u001b[0;31m     \u001b[0m_updateDrawing\u001b[0m\u001b[0;34m(\u001b[0m\u001b[0;34m)\u001b[0m\u001b[0;34m\u001b[0m\u001b[0;34m\u001b[0m\u001b[0m\n\u001b[0m\u001b[1;32m    164\u001b[0m \u001b[0;34m\u001b[0m\u001b[0m\n\u001b[1;32m    165\u001b[0m \u001b[0;34m\u001b[0m\u001b[0m\n",
            "\u001b[0;32m/usr/local/lib/python3.7/dist-packages/ColabTurtle/Turtle.py\u001b[0m in \u001b[0;36m_updateDrawing\u001b[0;34m()\u001b[0m\n\u001b[1;32m    143\u001b[0m     \u001b[0;32mif\u001b[0m \u001b[0mdrawing_window\u001b[0m \u001b[0;34m==\u001b[0m \u001b[0;32mNone\u001b[0m\u001b[0;34m:\u001b[0m\u001b[0;34m\u001b[0m\u001b[0;34m\u001b[0m\u001b[0m\n\u001b[1;32m    144\u001b[0m         \u001b[0;32mraise\u001b[0m \u001b[0mAttributeError\u001b[0m\u001b[0;34m(\u001b[0m\u001b[0;34m\"Display has not been initialized yet. Call initializeTurtle() before using.\"\u001b[0m\u001b[0;34m)\u001b[0m\u001b[0;34m\u001b[0m\u001b[0;34m\u001b[0m\u001b[0m\n\u001b[0;32m--> 145\u001b[0;31m     \u001b[0mtime\u001b[0m\u001b[0;34m.\u001b[0m\u001b[0msleep\u001b[0m\u001b[0;34m(\u001b[0m\u001b[0m_speedToSec\u001b[0m\u001b[0;34m(\u001b[0m\u001b[0mturtle_speed\u001b[0m\u001b[0;34m)\u001b[0m\u001b[0;34m)\u001b[0m\u001b[0;34m\u001b[0m\u001b[0;34m\u001b[0m\u001b[0m\n\u001b[0m\u001b[1;32m    146\u001b[0m     \u001b[0mdrawing_window\u001b[0m\u001b[0;34m.\u001b[0m\u001b[0mupdate\u001b[0m\u001b[0;34m(\u001b[0m\u001b[0mHTML\u001b[0m\u001b[0;34m(\u001b[0m\u001b[0m_generateSvgDrawing\u001b[0m\u001b[0;34m(\u001b[0m\u001b[0;34m)\u001b[0m\u001b[0;34m)\u001b[0m\u001b[0;34m)\u001b[0m\u001b[0;34m\u001b[0m\u001b[0;34m\u001b[0m\u001b[0m\n\u001b[1;32m    147\u001b[0m \u001b[0;34m\u001b[0m\u001b[0m\n",
            "\u001b[0;31mKeyboardInterrupt\u001b[0m: "
          ]
        }
      ]
    },
    {
      "cell_type": "code",
      "source": [
        ""
      ],
      "metadata": {
        "id": "ZWQX8iVwzYe6"
      },
      "execution_count": null,
      "outputs": []
    }
  ]
}