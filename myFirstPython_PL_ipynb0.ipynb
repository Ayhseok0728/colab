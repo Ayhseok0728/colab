{
  "nbformat": 4,
  "nbformat_minor": 0,
  "metadata": {
    "colab": {
      "name": "myFirstPython-PL.ipynb0",
      "provenance": [],
      "authorship_tag": "ABX9TyPvGGzwC6rJyEfeVLKLmE2e",
      "include_colab_link": true
    },
    "kernelspec": {
      "name": "python3",
      "display_name": "Python 3"
    },
    "language_info": {
      "name": "python"
    }
  },
  "cells": [
    {
      "cell_type": "markdown",
      "metadata": {
        "id": "view-in-github",
        "colab_type": "text"
      },
      "source": [
        "<a href=\"https://colab.research.google.com/github/Ayhseok0728/colab/blob/main/myFirstPython_PL_ipynb0.ipynb\" target=\"_parent\"><img src=\"https://colab.research.google.com/assets/colab-badge.svg\" alt=\"Open In Colab\"/></a>"
      ]
    },
    {
      "cell_type": "markdown",
      "source": [
        "나의 첫 파이썬 프로그래밍"
      ],
      "metadata": {
        "id": "L5kKH5iqDez-"
      }
    },
    {
      "cell_type": "code",
      "execution_count": 1,
      "metadata": {
        "colab": {
          "base_uri": "https://localhost:8080/"
        },
        "id": "eRpN_cVxDOYU",
        "outputId": "347c67ed-44a4-431b-996c-819c80af397a"
      },
      "outputs": [
        {
          "output_type": "stream",
          "name": "stdout",
          "text": [
            "컴퓨터과 3학년 1반 17번 유현석\n"
          ]
        }
      ],
      "source": [
        "print(\"컴퓨터과 3학년 1반 17번 유현석\")"
      ]
    }
  ]
}