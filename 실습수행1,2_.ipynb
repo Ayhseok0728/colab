{
  "nbformat": 4,
  "nbformat_minor": 0,
  "metadata": {
    "colab": {
      "provenance": [],
      "authorship_tag": "ABX9TyMn3YGeaDc4z0nyx0rBJOY+",
      "include_colab_link": true
    },
    "kernelspec": {
      "name": "python3",
      "display_name": "Python 3"
    },
    "language_info": {
      "name": "python"
    }
  },
  "cells": [
    {
      "cell_type": "markdown",
      "metadata": {
        "id": "view-in-github",
        "colab_type": "text"
      },
      "source": [
        "<a href=\"https://colab.research.google.com/github/Ayhseok0728/colab/blob/main/%EC%8B%A4%EC%8A%B5%EC%88%98%ED%96%891%2C2_.ipynb\" target=\"_parent\"><img src=\"https://colab.research.google.com/assets/colab-badge.svg\" alt=\"Open In Colab\"/></a>"
      ]
    },
    {
      "cell_type": "code",
      "execution_count": 27,
      "metadata": {
        "colab": {
          "base_uri": "https://localhost:8080/"
        },
        "id": "-K8tpcu1uW0n",
        "outputId": "dbc9b251-995e-4e8b-c93d-e2a3adccb529"
      },
      "outputs": [
        {
          "output_type": "stream",
          "name": "stdout",
          "text": [
            "문자열 입력 : Python\n",
            "pYTHON"
          ]
        }
      ],
      "source": [
        "text = input(\"문자열 입력 : \")\n",
        "\n",
        "for i in text :\n",
        "  if i.isupper() : print(i.lower(),end=\"\")\n",
        "  elif i.islower() : print(i.upper(),end=\"\")\n"
      ]
    },
    {
      "cell_type": "code",
      "source": [
        "name = input(\"문자열을 거꾸로 출력 : \")\n",
        "reverse_name = ''\n",
        "for i in name :\n",
        "  reverse_name = i + reverse_name\n",
        "\n",
        "\n",
        "print(f'거꾸로 출력 : {reverse_name}')\n"
      ],
      "metadata": {
        "colab": {
          "base_uri": "https://localhost:8080/"
        },
        "id": "aNKL-lBkwnHn",
        "outputId": "3836cfa1-5486-49ba-80e1-ea445a3d6ec0"
      },
      "execution_count": 29,
      "outputs": [
        {
          "output_type": "stream",
          "name": "stdout",
          "text": [
            "문자열을 거꾸로 출력 : 트와이스\n",
            "거꾸로 출력 : 스이와트\n"
          ]
        }
      ]
    }
  ]
}