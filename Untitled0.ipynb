{
  "nbformat": 4,
  "nbformat_minor": 0,
  "metadata": {
    "colab": {
      "name": "Untitled0.ipynb",
      "provenance": [],
      "authorship_tag": "ABX9TyN1Fw15uAVFFL2CTpkIgZT1",
      "include_colab_link": true
    },
    "kernelspec": {
      "name": "python3",
      "display_name": "Python 3"
    },
    "language_info": {
      "name": "python"
    }
  },
  "cells": [
    {
      "cell_type": "markdown",
      "metadata": {
        "id": "view-in-github",
        "colab_type": "text"
      },
      "source": [
        "<a href=\"https://colab.research.google.com/github/Ayhseok0728/colab/blob/main/Untitled0.ipynb\" target=\"_parent\"><img src=\"https://colab.research.google.com/assets/colab-badge.svg\" alt=\"Open In Colab\"/></a>"
      ]
    },
    {
      "cell_type": "markdown",
      "source": [
        "두번째 파이썬 프로그래밍 "
      ],
      "metadata": {
        "id": "lsGOJL07Ea9A"
      }
    },
    {
      "cell_type": "code",
      "execution_count": 1,
      "metadata": {
        "colab": {
          "base_uri": "https://localhost:8080/"
        },
        "id": "NkL64iugEaYA",
        "outputId": "8f650a88-0f06-4ee4-a83c-25d3ea48f726"
      },
      "outputs": [
        {
          "output_type": "stream",
          "name": "stdout",
          "text": [
            "두번째 파이썬 프로그래밍 '주소'\n",
            "안산공업고등학교->경기도 안산시 상록구 51\n"
          ]
        }
      ],
      "source": [
        "print(\"두번째 파이썬 프로그래밍 '주소'\");\n",
        "print(\"안산공업고등학교->경기도 안산시 상록구 51\")"
      ]
    }
  ]
}