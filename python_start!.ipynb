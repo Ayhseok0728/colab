{
  "nbformat": 4,
  "nbformat_minor": 0,
  "metadata": {
    "colab": {
      "name": "python start!.ipynb",
      "provenance": [],
      "authorship_tag": "ABX9TyNcMhvD7f0A0Em0tmFNibjm",
      "include_colab_link": true
    },
    "kernelspec": {
      "name": "python3",
      "display_name": "Python 3"
    },
    "language_info": {
      "name": "python"
    }
  },
  "cells": [
    {
      "cell_type": "markdown",
      "metadata": {
        "id": "view-in-github",
        "colab_type": "text"
      },
      "source": [
        "<a href=\"https://colab.research.google.com/github/Ayhseok0728/colab/blob/main/python_start!.ipynb\" target=\"_parent\"><img src=\"https://colab.research.google.com/assets/colab-badge.svg\" alt=\"Open In Colab\"/></a>"
      ]
    },
    {
      "cell_type": "code",
      "execution_count": null,
      "metadata": {
        "id": "pIUTdDorGjp7"
      },
      "outputs": [],
      "source": [
        ""
      ]
    },
    {
      "cell_type": "markdown",
      "source": [
        "# 파이썬 시작하기\n",
        "\n",
        "\n",
        "\n",
        "*   프로그래밍 언어?\n",
        "  컴퓨터와 스마트폰에 들어 있는 많은 소프트웨어\n",
        "  유튜브, 메시지, 전화, 카카오톡 등\n",
        "\n",
        "* 프로그램, 소프트웨어(Software), 애플리케이션(Application), 앱(App), 응용 프로그램 모두 동인한 용어입니다.\n",
        "\n",
        "---\n",
        "\n",
        "\n",
        "\n",
        "*   프로그래밍(Programming)\n",
        "  * 프로그램을 만드는 작업\n",
        "\n",
        "*   프로그래밍 언어(programming language)\n",
        "  * 사람이 이해하는 말을 언어라고 부르듯이 컴퓨터가 이해하는 언어를 의미\n",
        "\n",
        "* 프로그래머(Programmer)\n",
        "  * 프로그래밍 언어를 사용하여 소프트웨어나 앱을 만드는 직업을 가진 사람을 의미\n",
        "\n",
        "---\n",
        "\n",
        "\n",
        "* 파이썬(Pyhton)\n",
        "  * 파이썬은 귀도 반 로섬(Guido Rossum)이라는 프로그래머가 만든 언어, 1991년도에 공식적으로 발표.\n",
        "  * 파이썬(Pyhton)의 사전적인 의미는 비단뱀으로, 파이썬의 로고를 보면 파란색과 노란색 비단뱀 두 마리가 서로 얽혀 있음.\n",
        "\n",
        "\n",
        "---\n",
        "\n",
        "\n",
        "\n",
        "\n",
        "\n",
        "\n"
      ],
      "metadata": {
        "id": "MeNnWAb0GlJH"
      }
    },
    {
      "cell_type": "markdown",
      "source": [
        "예제"
      ],
      "metadata": {
        "id": "-s_e3vNaQMPS"
      }
    },
    {
      "cell_type": "code",
      "source": [
        "print(\"난생처음 파이썬\")\n",
        "print(\"프로그래밍을 합니다\")\n",
        "print(\"이제 저도 파이썬 프로그래머입니다. ^^\")"
      ],
      "metadata": {
        "colab": {
          "base_uri": "https://localhost:8080/"
        },
        "id": "FYUW0N4UQPzC",
        "outputId": "f49e38c2-483b-4545-b028-5169960c2596"
      },
      "execution_count": 3,
      "outputs": [
        {
          "output_type": "stream",
          "name": "stdout",
          "text": [
            "난생처음 파이썬\n",
            "프로그래밍을 합니다\n",
            "이제 저도 파이썬 프로그래머입니다. ^^\n"
          ]
        }
      ]
    },
    {
      "cell_type": "markdown",
      "source": [
        "두 번째 파일입니다."
      ],
      "metadata": {
        "id": "gprKOYlhQy8K"
      }
    },
    {
      "cell_type": "code",
      "source": [
        "print(\"난생처음 파이썬을 공부하지만, 점점 익숙해지는 것 같아요. :\")"
      ],
      "metadata": {
        "colab": {
          "base_uri": "https://localhost:8080/"
        },
        "id": "CCa9hnsFQyQK",
        "outputId": "4be9a5c8-50c5-44ff-a698-deba6486e64f"
      },
      "execution_count": 4,
      "outputs": [
        {
          "output_type": "stream",
          "name": "stdout",
          "text": [
            "난생처음 파이썬을 공부하지만, 점점 익숙해지는 것 같아요. :\n"
          ]
        }
      ]
    },
    {
      "cell_type": "code",
      "source": [
        "print(100+300)"
      ],
      "metadata": {
        "colab": {
          "base_uri": "https://localhost:8080/"
        },
        "id": "z31mV3-4QDSk",
        "outputId": "29e03975-a78d-45b0-ab87-21d806ac4889"
      },
      "execution_count": 1,
      "outputs": [
        {
          "output_type": "stream",
          "name": "stdout",
          "text": [
            "400\n"
          ]
        }
      ]
    }
  ]
}