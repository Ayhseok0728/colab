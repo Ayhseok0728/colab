{
  "nbformat": 4,
  "nbformat_minor": 0,
  "metadata": {
    "colab": {
      "provenance": [],
      "authorship_tag": "ABX9TyM5zll5JnQAYJQVr7rqd1fH",
      "include_colab_link": true
    },
    "kernelspec": {
      "name": "python3",
      "display_name": "Python 3"
    },
    "language_info": {
      "name": "python"
    }
  },
  "cells": [
    {
      "cell_type": "markdown",
      "metadata": {
        "id": "view-in-github",
        "colab_type": "text"
      },
      "source": [
        "<a href=\"https://colab.research.google.com/github/Ayhseok0728/colab/blob/main/%EC%8B%A4%EC%8A%B53%2C4.ipynb\" target=\"_parent\"><img src=\"https://colab.research.google.com/assets/colab-badge.svg\" alt=\"Open In Colab\"/></a>"
      ]
    },
    {
      "cell_type": "code",
      "execution_count": 3,
      "metadata": {
        "id": "LCDjtW5R687l"
      },
      "outputs": [],
      "source": []
    },
    {
      "cell_type": "code",
      "source": [
        "p = int(input(\"파운드(lb)를 입력하세요: \"))\n",
        "kg = p * 0.453592\n",
        "print(p, \"파운드(lb)는\", round(kg, 5), \"킬로그랩(kg)입니다.\")\n",
        "\n",
        "kg = int(input(\"킬로그램(kg)을 입력하세요:\"))\n",
        "p = kg *2.204623\n",
        "print(kg, \"킬로그램(kg)은\", round(p, 5), \"파운드(lb)입니다.\")"
      ],
      "metadata": {
        "colab": {
          "base_uri": "https://localhost:8080/"
        },
        "id": "Jzg8c90V9ypZ",
        "outputId": "466fc213-d709-4b29-d2b1-2a241b2ae407"
      },
      "execution_count": 4,
      "outputs": [
        {
          "output_type": "stream",
          "name": "stdout",
          "text": [
            "파운드(lb)를 입력하세요: 15\n",
            "15 파운드(lb)는 6.80388 킬로그랩(kg)입니다.\n",
            "킬로그램(kg)을 입력하세요:15\n",
            "15 킬로그램(kg)은 33.06935 파운드(lb)입니다.\n"
          ]
        }
      ]
    }
  ]
}