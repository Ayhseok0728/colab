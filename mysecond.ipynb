{
  "nbformat": 4,
  "nbformat_minor": 0,
  "metadata": {
    "colab": {
      "name": "mysecond.ipynb",
      "provenance": [],
      "authorship_tag": "ABX9TyNl6WVEsZ4TO0Ph8NVCYkQi",
      "include_colab_link": true
    },
    "kernelspec": {
      "name": "python3",
      "display_name": "Python 3"
    },
    "language_info": {
      "name": "python"
    }
  },
  "cells": [
    {
      "cell_type": "markdown",
      "metadata": {
        "id": "view-in-github",
        "colab_type": "text"
      },
      "source": [
        "<a href=\"https://colab.research.google.com/github/Ayhseok0728/colab/blob/main/mysecond.ipynb\" target=\"_parent\"><img src=\"https://colab.research.google.com/assets/colab-badge.svg\" alt=\"Open In Colab\"/></a>"
      ]
    },
    {
      "cell_type": "code",
      "execution_count": 1,
      "metadata": {
        "colab": {
          "base_uri": "https://localhost:8080/"
        },
        "id": "OW4O6RTkRh1g",
        "outputId": "8a7a4b1b-f222-4eb1-a11e-e94849ec7f46"
      },
      "outputs": [
        {
          "output_type": "stream",
          "name": "stdout",
          "text": [
            "두번째 파일입니다.\n",
            "난생처음 파이썬을 공부하지만, 점점 익숙해지는 것 같아요. :)\n"
          ]
        }
      ],
      "source": [
        "print(\"두번째 파일입니다.\")\n",
        "print(\"난생처음 파이썬을 공부하지만, 점점 익숙해지는 것 같아요. :)\")"
      ]
    }
  ]
}